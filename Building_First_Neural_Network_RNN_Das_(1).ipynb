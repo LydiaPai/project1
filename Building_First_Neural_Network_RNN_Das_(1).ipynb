{
  "cells": [
    {
      "cell_type": "markdown",
      "metadata": {
        "id": "jQfp7hIf8UjE"
      },
      "source": [
        "# Install Environment\n",
        "\n",
        "*   For ease of use, we recommend using Google Colab\n",
        "*   You can also use Jupyter Notebook locally (Desktop,laptop,Server)\n",
        "*   You can check this link for further [reference](https://towardsdatascience.com/how-to-set-up-anaconda-and-jupyter-notebook-the-right-way-de3b7623ea4a)\n",
        "* We recommend to install [Anaconda](https://docs.anaconda.com/anaconda/install/index.html) or [Miniconda](https://docs.conda.io/en/latest/miniconda.html) first\n",
        "* Lastly prepare GPU for faster processing\n",
        "\n",
        "Most of the new research papers use Python3 as their programming language. \n",
        "However, if you use Colab as your training environment, Google will build that for you.\n",
        "Also, you can activate GPU by changing the Runtime in Google Colab.\n",
        "\n"
      ]
    },
    {
      "cell_type": "markdown",
      "metadata": {
        "id": "Kak0E7knFS8a"
      },
      "source": [
        "# Install libraries\n",
        "## First install Pytorch\n",
        "Nowadays, there are many kinds of training framework in the world. Some of which support by tech companies or research centers.\n",
        "The most common are [PyTorch](https://pytorch.org/) and [Tensorflow](https://www.tensorflow.org).\n",
        "\n",
        "Here, we will use PyTorch as our framework to build our training scripts. Because it is easy-to-use and being popular for researchers, most of the papers using pytorch as their first selection.\n",
        "But if in industrial enviroment, TensorFlow would be the better selection for your product.\n"
      ]
    },
    {
      "cell_type": "markdown",
      "metadata": {
        "id": "CpBsUKCaNHHU"
      },
      "source": [
        "We will uninstall Tensorflow first"
      ]
    },
    {
      "cell_type": "code",
      "execution_count": 43,
      "metadata": {
        "colab": {
          "base_uri": "https://localhost:8080/"
        },
        "id": "gwTm1dl672f4",
        "outputId": "1334bf39-381a-4c2d-8ed1-69829116eefb"
      },
      "outputs": [
        {
          "output_type": "stream",
          "name": "stdout",
          "text": [
            "\u001b[33mWARNING: Skipping tensorflow as it is not installed.\u001b[0m\u001b[33m\n",
            "\u001b[0m"
          ]
        }
      ],
      "source": [
        "# We won't need TensorFlow here\n",
        "!pip uninstall -y tensorflow"
      ]
    },
    {
      "cell_type": "code",
      "execution_count": 44,
      "metadata": {
        "colab": {
          "base_uri": "https://localhost:8080/"
        },
        "id": "t05UKUpbNQ9A",
        "outputId": "5f3c2c1d-e76f-474b-8e21-93e27c13ca16"
      },
      "outputs": [
        {
          "output_type": "stream",
          "name": "stdout",
          "text": [
            "Looking in indexes: https://pypi.org/simple, https://us-python.pkg.dev/colab-wheels/public/simple/\n",
            "Requirement already satisfied: torch in /usr/local/lib/python3.9/dist-packages (1.13.1+cu116)\n",
            "Requirement already satisfied: torchvision in /usr/local/lib/python3.9/dist-packages (0.14.1+cu116)\n",
            "Requirement already satisfied: typing-extensions in /usr/local/lib/python3.9/dist-packages (from torch) (4.5.0)\n",
            "Requirement already satisfied: numpy in /usr/local/lib/python3.9/dist-packages (from torchvision) (1.22.4)\n",
            "Requirement already satisfied: pillow!=8.3.*,>=5.3.0 in /usr/local/lib/python3.9/dist-packages (from torchvision) (8.4.0)\n",
            "Requirement already satisfied: requests in /usr/local/lib/python3.9/dist-packages (from torchvision) (2.27.1)\n",
            "Requirement already satisfied: certifi>=2017.4.17 in /usr/local/lib/python3.9/dist-packages (from requests->torchvision) (2022.12.7)\n",
            "Requirement already satisfied: charset-normalizer~=2.0.0 in /usr/local/lib/python3.9/dist-packages (from requests->torchvision) (2.0.12)\n",
            "Requirement already satisfied: urllib3<1.27,>=1.21.1 in /usr/local/lib/python3.9/dist-packages (from requests->torchvision) (1.26.15)\n",
            "Requirement already satisfied: idna<4,>=2.5 in /usr/local/lib/python3.9/dist-packages (from requests->torchvision) (3.4)\n"
          ]
        }
      ],
      "source": [
        "# install PyTorch\n",
        "!pip install torch torchvision"
      ]
    },
    {
      "cell_type": "markdown",
      "metadata": {
        "id": "N7Gm1E67cj5Q"
      },
      "source": [
        "# Utility Functions\n",
        "Basic utility functions like saving the model to reading the data.\n",
        "As you can see we use **pickling** to save and load the checkpoints.\n",
        "You can read more about this here: https://snyk.io/blog/guide-to-python-pickle/"
      ]
    },
    {
      "cell_type": "code",
      "execution_count": 45,
      "metadata": {
        "id": "k6HC_VEzcqu7"
      },
      "outputs": [],
      "source": [
        "import pickle\n",
        "import numpy as np\n",
        "import torch\n",
        "\n",
        "\n",
        "def pickleStore(savethings, filename):\n",
        "  # Store the checkpoint\n",
        "    dbfile = open( filename , 'wb' )\n",
        "    pickle.dump( savethings , dbfile )\n",
        "    dbfile.close()\n",
        "    return\n",
        "\n",
        "\n",
        "def pikleOpen(filename):\n",
        "  # Open the model\n",
        "    file_to_read = open( filename , \"rb\" )\n",
        "    p = pickle.load( file_to_read )\n",
        "    return p\n",
        "\n",
        "\n",
        "def readData(f):\n",
        "  # Read Data from the system\n",
        "    return np.genfromtxt(f, delimiter=',', dtype=str)[1:]\n",
        "\n",
        "\n",
        "def saveModel(net, path):\n",
        "  # Save the model\n",
        "    torch.save(net.state_dict(), path)"
      ]
    },
    {
      "cell_type": "markdown",
      "metadata": {
        "id": "lF9CFW-ZQoJg"
      },
      "source": [
        "# Training Framework\n",
        "In order to start training, we have to follow these steps:\n",
        "\n",
        "1.  Dataset\n",
        "2.  Pre-processing\n",
        "3.  Dataloader\n",
        "4.  Model\n",
        "5.  Training Part and Testing Part\n",
        "6.  Optimizer\n",
        "7.  Loss Function\n"
      ]
    },
    {
      "cell_type": "markdown",
      "metadata": {
        "id": "5MQKbSPrO9oL"
      },
      "source": [
        "## Dataset\n",
        "We need to format our data to meet the needs from models. The advantage is we load the data by batch instead of loading all of the dataset into the memory. Here we use the pre-build dataset component.\n",
        "You also can build your own Dataset object by yourself, and it should follow these methods:\n",
        "* Declaring it as an extended Dataset Object\n",
        "* Defining ``__init__``, ``__len__``, ``__getitem__`` functions"
      ]
    },
    {
      "cell_type": "code",
      "execution_count": 46,
      "metadata": {
        "id": "xBSFkTivO75j"
      },
      "outputs": [],
      "source": [
        "import torch\n",
        "\n",
        "\n",
        "class Dataset(torch.utils.data.Dataset):\n",
        "    'Characterizes a dataset for PyTorch'\n",
        "    def __init__(self, data, labels, device='gpu'):\n",
        "        'Initialization'\n",
        "        self.data = data.to(device)\n",
        "        self.labels = labels\n",
        "\n",
        "    def __len__(self):\n",
        "        'Denotes the total number of samples'\n",
        "        return len(self.labels)\n",
        "\n",
        "    def __getitem__(self, index):\n",
        "        'Generates one sample of data'\n",
        "        # Load data and get label\n",
        "        X = self.data[index]\n",
        "        y = self.labels[index]\n",
        "        return X, y, index"
      ]
    },
    {
      "cell_type": "markdown",
      "metadata": {
        "id": "zuw1SAdZTGbn"
      },
      "source": [
        "# Pre-processing\n",
        "We need to pre-process the data before training. Preprocessing helps us to segment more data and clear out anomalies(異常) manually if present.\n",
        "It also helps us in understanding the data and thus it will eventually help in better performance of the model."
      ]
    },
    {
      "cell_type": "code",
      "execution_count": 47,
      "metadata": {
        "id": "U8KJx8OPTrla"
      },
      "outputs": [],
      "source": [
        "import numpy as np\n",
        "import torch\n",
        "\n",
        "\n",
        "def preprocess(data, flip=True):\n",
        "    date   = data[:, 0]\n",
        "    open   = data[:, 1]\n",
        "    high   = data[:, 2]\n",
        "    low    = data[:, 3]\n",
        "    close  = data[:, 4]\n",
        "    volume = data[:, 5]\n",
        "    #array([105., 112., 110., 118., 120.])\n",
        "    prices = np.array([close for date, open, high, low, close, volume in data]).astype(np.float64)\n",
        "    #如果flip為真就使用NumPy的flip()函数将prices数组反转。这个操作可以将数据的时间顺序倒转，用于一些需要倒叙处理数据的模型。\n",
        "    if flip:\n",
        "        prices = np.flip(prices)\n",
        "    #print(prices)\n",
        "    return prices\n",
        "\n",
        "\n",
        "def train_test_split(data, percentage=0.8):\n",
        "    train_size  = int(len(data) * percentage)\n",
        "    train, test = data[:train_size], data[train_size:]\n",
        "    return train, test\n",
        "\n",
        "# 改\n",
        "def transform_dataset(dataset, look_back=20):\n",
        "    # N days as training sample\n",
        "    dataX = [dataset[i:(i + look_back)]\n",
        "            for i in range(len(dataset)-look_back-1)]\n",
        "    # 1 day as groundtruth\n",
        "    dataY = [dataset[i + look_back]\n",
        "            for i in range(len(dataset)-look_back-1)]\n",
        "    return torch.tensor(np.array(dataX), dtype=torch.float32), torch.tensor(np.array(dataY), dtype=torch.float32)\n"
      ]
    },
    {
      "cell_type": "markdown",
      "metadata": {
        "id": "seNtUE_pRboS"
      },
      "source": [
        "# DataLoader\n",
        "DataLoader provides data to trainer each batch. It fetches the data and indices from dataSet object and combine them as the output.More about parameters:\n",
        "https://pytorch.org/tutorials/beginner/basics/data_tutorial.html.\n",
        "Fortunately, PyTorch has built in DataLoader function. But if you want to learn more, hit that link above.\n",
        "One more thing,DO NOT use test data in training.Train data and test data should be mutual exclusive.**BE CAREFUL ABOUT THIS.**\n"
      ]
    },
    {
      "cell_type": "code",
      "execution_count": 48,
      "metadata": {
        "id": "bCNCwYtPUhMA"
      },
      "outputs": [],
      "source": [
        "# Demo Code\n",
        "#from torch.utils.data import DataLoader"
      ]
    },
    {
      "cell_type": "markdown",
      "metadata": {
        "id": "HM02SQB5VcYo"
      },
      "source": [
        "# Model\n",
        "Model is the algorithm of how to map input to label. And it has three methods we need to define: ``__init__``, ``predict`` and ``forward``. \n",
        "\n",
        "**DO NOT** declare your forward layer inside forward function, cause in each epoch we need to update the parameters of each layers inside the model.\n",
        "If training with GPU, **DO NOT** forget to assign the GPU device for your model.\n",
        "You can see that instead of RNN I have used LSTM.- You can try different methods and experiment.\n",
        "\n",
        "For more details:\n",
        "* https://medium.com/analytics-vidhya/rnn-vs-gru-vs-lstm-863b0b7b1573\n",
        "* https://ai.stackexchange.com/questions/18198/what-is-the-difference-between-lstm-and-rnn\n",
        "* https://pytorch.org/docs/stable/generated/torch.nn.RNN.html\n",
        "* https://pytorch.org/docs/stable/generated/torch.nn.Linear.html"
      ]
    },
    {
      "cell_type": "code",
      "execution_count": 49,
      "metadata": {
        "id": "Zc2NrxD1V6Bo"
      },
      "outputs": [],
      "source": [
        "import torch.nn as nn\n",
        "import torch\n",
        "\n",
        "\n",
        "class LSTMPredictor(nn.Module):\n",
        "#改\n",
        "    def __init__(self, look_back, num_layers=2, dropout=0.3, bidirectional=True):\n",
        "        #首先调用父类 nn.Module 的构造函数，初始化模型的基本属性。\n",
        "        super(LSTMPredictor, self).__init__()\n",
        "\n",
        "        # Nerual Layers LSTM - Long Short Term Memory\n",
        "        #定义 LSTM 层，输入维度为 look_back，输出维度为 32。这里 num_layers=2 表示 LSTM 层有两层，dropout=0.3 表示在训练时对 LSTM 输出进行 dropout，bidirectional=True 表示使用双向 LSTM。\n",
        "        self.rnn   = nn.LSTM(look_back, 32, num_layers, dropout=dropout, bidirectional=True)\n",
        "        #定义一个全连接层，输入维度为 32*(2 if bidirectional else 1)，输出维度为 16。这里 2 if bidirectional else 1 的意思是如果使用双向 LSTM，输入维度需要乘以 2。\n",
        "        self.ly_a  = nn.Linear(32*(2 if bidirectional else 1), 16)\n",
        "        # self.ly_a  = nn.Linear(look_back, 16)\n",
        "        #relu 激活函數\n",
        "        self.relu  = nn.ReLU()\n",
        "        self.reg   = nn.Linear(16, 1)\n",
        "\n",
        "    def predict(self, input):\n",
        "        with torch.no_grad():\n",
        "            return self.forward(input).item()\n",
        "    #forward 函數是nn.Module類中的一個方法\n",
        "    def forward(self, input):\n",
        "        r_out, (h_n, h_c) = self.rnn(input.unsqueeze(1), None)\n",
        "        # print(r_out.shape)\n",
        "        # input()\n",
        "        logits = self.reg(self.relu(self.ly_a(r_out.squeeze(1))))\n",
        "        # logits = self.reg(self.relu(self.ly_a(input)))\n",
        "\n",
        "        return logits"
      ]
    },
    {
      "cell_type": "markdown",
      "metadata": {
        "id": "RyTEMBRgbRNA"
      },
      "source": [
        "# Training and Testing part\n",
        "We finally define the Dataset, DataLoader and Model. But there are still some more things that need to be done. We need to input the data to model, get the predicted output, calculate the criterion and update the parameters of the model."
      ]
    },
    {
      "cell_type": "markdown",
      "metadata": {
        "id": "3IBfVqwgdeIt"
      },
      "source": [
        "## Training Function\n",
        "First is the training part. Training map the relationship between input and label, also update the parameters at the stage.\n",
        "**DO NOT** forget to move your data to **GPU**, model and data should both at the same place.\n",
        "One more thing, we suggest writing the checkpoint if your experiment taking too long time."
      ]
    },
    {
      "cell_type": "code",
      "execution_count": 50,
      "metadata": {
        "id": "x2aZelKYcL-_"
      },
      "outputs": [],
      "source": [
        "import numpy as np\n",
        "import torch\n",
        "import matplotlib.pyplot as plt\n",
        "import sys\n",
        "# insert at 1, 0 is the script path (or '' in REPL)\n",
        "sys.path.insert(1, '../')\n",
        "\n",
        "\n",
        "\n",
        "def trainer(net, criterion, optimizer, trainloader, devloader, epoch_n=100, path=\"./checkpoint/save.pt\"):\n",
        "    train_losses, valid_losses = [], []\n",
        "    for epoch in range(epoch_n): # loop over the dataset multiple times\n",
        "        net.train()\n",
        "        running_loss = 0.0\n",
        "        train_loss = 0.0\n",
        "        valid_loss = 0.0\n",
        "        #对于每个训练样本，使用enumerate()函数获得其索引和数据。\n",
        "        for i, data in enumerate(trainloader, 0):\n",
        "            # get the iputs; data is a list of [inputs, labels]\n",
        "            inputs, labels, data_index = data\n",
        "            # zero the parameter gradients\n",
        "            optimizer.zero_grad()\n",
        "            # forward + backward + optimize\n",
        "            outputs = net(inputs)\n",
        "            loss = criterion(outputs.cpu(), labels.unsqueeze(1).cpu())\n",
        "            train_loss += loss.item()*inputs.shape[0]\n",
        "            loss.backward()\n",
        "            optimizer.step()\n",
        "\n",
        "            # print statistics\n",
        "            running_loss += loss.item()\n",
        "            if i % 10 == 9:    # print every 2000 mini-batches\n",
        "                print('[%d, %5d] loss: %.3f' %(epoch + 1, i + 1, running_loss / 2000))\n",
        "                running_loss = 0.0\n",
        "\n",
        "        ######################    \n",
        "        # validate the model #\n",
        "        ######################\n",
        "        net.eval()\n",
        "        for i, data in enumerate(devloader, 0):\n",
        "            # move tensors to GPU if CUDA is available\n",
        "            inputs, labels, data_index = data\n",
        "            # forward pass: compute predicted outputs by passing inputs to the model\n",
        "            outputs = net(inputs)\n",
        "            # calculate the batch loss\n",
        "            loss = criterion(outputs.cpu(), labels.cpu())\n",
        "            # update average validation loss \n",
        "            valid_loss += loss.item()*inputs.shape[0]\n",
        "        \n",
        "        # calculate average losses\n",
        "        train_loss = train_loss/len(trainloader.dataset)\n",
        "        valid_loss = valid_loss/len(devloader.dataset)\n",
        "    \n",
        "        # print training/validation statistics \n",
        "        print('\\tTraining Loss: {:.6f} \\tValidation Loss: {:.6f}'.format(train_loss, valid_loss))\n",
        "        train_losses.append(train_loss)\n",
        "        valid_losses.append(valid_loss)\n",
        "    print('Finished Training')\n",
        "    plt.plot(range(1, epoch_n+1), train_losses, label='Training Loss')\n",
        "    plt.plot(range(1, epoch_n+1), valid_losses, label='Validation Loss')\n",
        "    plt.xlabel('Epoch')\n",
        "    plt.ylabel('Loss')\n",
        "    plt.legend()\n",
        "    plt.show()\n",
        "    ## Save model\n",
        "    saveModel(net, path)"
      ]
    },
    {
      "cell_type": "markdown",
      "metadata": {
        "id": "6Jqonn-Ueddc"
      },
      "source": [
        "Here,\n",
        "1. ``optimizer.zero_grad`` means to set the gradient to zero. In each batch, the loss value isaccumulated from the samples' loss value.\n",
        "2.``criterion`` is a pre-defined function. It is used for calculating the loss value.\n",
        "3.``loss.backward`` here means to do back propagation based on the loss value and calculate thegradient value.\n",
        "4.``optimizer.step`` means to do gradient descent. \n",
        "\n",
        "More information about gradient descent https://towardsdatascience.com/gradient-descent-algorithm-a-deep-dive-cf04e8115f21"
      ]
    },
    {
      "cell_type": "markdown",
      "metadata": {
        "id": "2Zqqs5k8dRnO"
      },
      "source": [
        "## Test Function\n",
        "Next, we define the testing function. Testing just show how the performance of your model is, it does not upgrade any parameters of the model."
      ]
    },
    {
      "cell_type": "code",
      "execution_count": 51,
      "metadata": {
        "id": "WuHKHR9oeB_V"
      },
      "outputs": [],
      "source": [
        "def tester(net, criterion, testloader):\n",
        "    loss = 0\n",
        "    with torch.no_grad():\n",
        "        for data in testloader:\n",
        "            inputs, labels, data_index = data\n",
        "            outputs = net(inputs)\n",
        "            loss += criterion(outputs.cpu(), labels.unsqueeze(1).cpu())\n",
        "    return loss.item()"
      ]
    },
    {
      "cell_type": "markdown",
      "metadata": {
        "id": "umfXtyuD5qk3"
      },
      "source": [
        "# Optimizer\n",
        "Optimizer is the way for models to do gradient discent. It helps model to adjust its parameters. For starters in machine learning, we suggest using\n",
        "**Adam** as your Optimizer."
      ]
    },
    {
      "cell_type": "code",
      "execution_count": 52,
      "metadata": {
        "id": "tpFg-Air6zOm"
      },
      "outputs": [],
      "source": [
        "# Demo Code\n",
        "# lr =0.001\n",
        "# optimizer = optim.SGD(model.parameters(), lr=lr, momentum=0.9)"
      ]
    },
    {
      "cell_type": "markdown",
      "metadata": {
        "id": "4yWMgK0P6JVv"
      },
      "source": [
        "# Loss Function\n",
        "It can be also called as **loss function** or **cost function**. More specific detail please visit:\n",
        "* https://stats.stackexchange.com/questions/179026/objective-function-cost-function-loss-function-are-they-the-same-thing\n",
        "* https://medium.com/@gatorsquare/ml-gradient-descent-%E6%A2%AF%E5%BA%A6%E4%B8%8B%E9%99%8D%E6%B3%95-c664b5874e5c\n",
        "A loss function is a function that maps an event or values of one or more variables onto a realnumber intuitively representing some \"cost\" associated with the event, which measures thepenalty. And an optimization problem seeks to minimize a loss function."
      ]
    },
    {
      "cell_type": "code",
      "execution_count": 53,
      "metadata": {
        "id": "lS74VDuA6ubv"
      },
      "outputs": [],
      "source": [
        "# Demo Code\n",
        "#criterion = nn.CrossEntropyLoss()"
      ]
    },
    {
      "cell_type": "markdown",
      "metadata": {
        "id": "c8VLpMF37BY0"
      },
      "source": [
        "# All set!\n",
        "A few more steps and then we can start training!"
      ]
    },
    {
      "cell_type": "markdown",
      "metadata": {
        "id": "565GfonCNNTk"
      },
      "source": [
        "# Import Modules"
      ]
    },
    {
      "cell_type": "code",
      "execution_count": 54,
      "metadata": {
        "id": "tFuSdQsROJDJ"
      },
      "outputs": [],
      "source": [
        "import torch\n",
        "import torch.nn as nn\n",
        "import torch.optim as optim\n",
        "\n",
        "from torch.utils.data.dataloader import default_collate\n",
        "\n",
        "import os\n",
        "import math\n",
        "\n"
      ]
    },
    {
      "cell_type": "markdown",
      "metadata": {
        "id": "lSmWHpZ_72f9"
      },
      "source": [
        "## Get Device for Training\n",
        "We want to be able to train our model on a hardware accelerator like the GPU,\n",
        "if it is available. Let's check to see if\n",
        "[torch.cuda](https://pytorch.org/docs/stable/notes/cuda.html) is available, else we\n",
        "continue to use the GPU.\n",
        "\n"
      ]
    },
    {
      "cell_type": "code",
      "execution_count": 55,
      "metadata": {
        "id": "704KLUwr72f-",
        "colab": {
          "base_uri": "https://localhost:8080/"
        },
        "outputId": "d637ce08-24ea-49d5-f2ed-296f007f8d84"
      },
      "outputs": [
        {
          "output_type": "stream",
          "name": "stdout",
          "text": [
            "Using cuda device\n"
          ]
        }
      ],
      "source": [
        "device = \"cuda\" if torch.cuda.is_available() else \"cpu\"\n",
        "print(f\"Using {device} device\")"
      ]
    },
    {
      "cell_type": "markdown",
      "metadata": {
        "id": "FngTb1pG7WKt"
      },
      "source": [
        "# Read Data"
      ]
    },
    {
      "cell_type": "code",
      "execution_count": 56,
      "metadata": {
        "id": "9OwoYNQw7Vvn",
        "colab": {
          "base_uri": "https://localhost:8080/"
        },
        "outputId": "e6417b7f-4227-4874-ea7f-6024a87bd519"
      },
      "outputs": [
        {
          "output_type": "stream",
          "name": "stdout",
          "text": [
            "Num of samples: 3724\n"
          ]
        }
      ],
      "source": [
        "data = readData(\"0050_history.csv\")\n",
        "print('Num of samples:', len(data))"
      ]
    },
    {
      "cell_type": "markdown",
      "metadata": {
        "id": "GVxzAUts9slb"
      },
      "source": [
        "# Preprocess"
      ]
    },
    {
      "cell_type": "code",
      "execution_count": 57,
      "metadata": {
        "id": "5VlHYPNX8Q6x"
      },
      "outputs": [],
      "source": [
        "prices = preprocess(data)\n",
        "# Divide trainset and test set\n",
        "train, test = train_test_split(prices, 0.8)\n",
        "# Set the N(look_back)=5 because from the five day stock, we are predicting the next day\n",
        "look_back = 5\n",
        "trainX, trainY = transform_dataset(train, look_back)\n",
        "testX, testY   = transform_dataset(test, look_back)\n",
        "# Get dataset\n",
        "trainset = Dataset(trainX, trainY, device)\n",
        "testset  = Dataset(testX, testY, device)\n",
        "# Get dataloader\n",
        "#改\n",
        "batch_size = 100\n",
        "trainloader = torch.utils.data.DataLoader(trainset, batch_size=batch_size, shuffle=True, num_workers=0) # num_workers should set 1 if put data on CUDA\n",
        "testloader  = torch.utils.data.DataLoader(testset, batch_size=batch_size, shuffle=False, num_workers=0)"
      ]
    },
    {
      "cell_type": "markdown",
      "metadata": {
        "id": "ungZ7Pzt96JG"
      },
      "source": [
        "# Model Initialize"
      ]
    },
    {
      "cell_type": "code",
      "execution_count": 58,
      "metadata": {
        "id": "LvxT4_Uz90Bj",
        "colab": {
          "base_uri": "https://localhost:8080/"
        },
        "outputId": "41e652b9-db0a-4188-f8c1-adf24478433a"
      },
      "outputs": [
        {
          "output_type": "execute_result",
          "data": {
            "text/plain": [
              "LSTMPredictor(\n",
              "  (rnn): LSTM(5, 32, num_layers=2, dropout=0.3, bidirectional=True)\n",
              "  (ly_a): Linear(in_features=64, out_features=16, bias=True)\n",
              "  (relu): ReLU()\n",
              "  (reg): Linear(in_features=16, out_features=1, bias=True)\n",
              ")"
            ]
          },
          "metadata": {},
          "execution_count": 58
        }
      ],
      "source": [
        "net = LSTMPredictor(look_back)\n",
        "net.to(device)"
      ]
    },
    {
      "cell_type": "markdown",
      "metadata": {
        "id": "kmtWM6li-AQT"
      },
      "source": [
        "# Loss Function"
      ]
    },
    {
      "cell_type": "code",
      "execution_count": 59,
      "metadata": {
        "id": "67dCbOxz99zx"
      },
      "outputs": [],
      "source": [
        "#改\n",
        "criterion = nn.MSELoss() # Feel free to use any other loss"
      ]
    },
    {
      "cell_type": "markdown",
      "metadata": {
        "id": "aol9u-Kn-WJy"
      },
      "source": [
        "I used Mean Square Error Loss function. You can tweak with other if you want.\n",
        "https://pytorch.org/docs/stable/nn.html#loss-functions\n",
        "\n",
        "Or, you can create your own loss function \n",
        "https://towardsdatascience.com/how-to-create-a-custom-loss-function-keras-3a89156ec69b\n"
      ]
    },
    {
      "cell_type": "markdown",
      "metadata": {
        "id": "dbKMukjw-14m"
      },
      "source": [
        "# Optimizer"
      ]
    },
    {
      "cell_type": "code",
      "execution_count": 60,
      "metadata": {
        "id": "Gj12NGdq-FEy"
      },
      "outputs": [],
      "source": [
        "#改\n",
        "optimizer = optim.Adam(net.parameters(), lr=0.001) # you can tweak the lr and see if it affects anything"
      ]
    },
    {
      "cell_type": "markdown",
      "metadata": {
        "id": "R92TxhjM_DcD"
      },
      "source": [
        "# Training"
      ]
    },
    {
      "cell_type": "markdown",
      "metadata": {
        "id": "CgOWQ62P_070"
      },
      "source": [
        "You can change the epoch here.\n",
        "But also make sure it doesn't overfit!"
      ]
    },
    {
      "cell_type": "code",
      "execution_count": 61,
      "metadata": {
        "id": "pMlDX-Ru_Czv",
        "colab": {
          "base_uri": "https://localhost:8080/",
          "height": 1000
        },
        "outputId": "53de91d6-61b3-44cb-9373-35bd4a0cfeb8"
      },
      "outputs": [
        {
          "output_type": "stream",
          "name": "stdout",
          "text": [
            "[1,    10] loss: 35.340\n",
            "[1,    20] loss: 34.822\n",
            "[1,    30] loss: 34.871\n",
            "\tTraining Loss: 6992.617670 \tValidation Loss: 2368.192262\n",
            "[2,    10] loss: 33.511\n"
          ]
        },
        {
          "output_type": "stream",
          "name": "stderr",
          "text": [
            "/usr/local/lib/python3.9/dist-packages/torch/nn/modules/loss.py:536: UserWarning: Using a target size (torch.Size([100])) that is different to the input size (torch.Size([100, 1])). This will likely lead to incorrect results due to broadcasting. Please ensure they have the same size.\n",
            "  return F.mse_loss(input, target, reduction=self.reduction)\n",
            "/usr/local/lib/python3.9/dist-packages/torch/nn/modules/loss.py:536: UserWarning: Using a target size (torch.Size([39])) that is different to the input size (torch.Size([39, 1])). This will likely lead to incorrect results due to broadcasting. Please ensure they have the same size.\n",
            "  return F.mse_loss(input, target, reduction=self.reduction)\n"
          ]
        },
        {
          "output_type": "stream",
          "name": "stdout",
          "text": [
            "[2,    20] loss: 31.036\n",
            "[2,    30] loss: 30.714\n",
            "\tTraining Loss: 6350.963278 \tValidation Loss: 1805.716428\n",
            "[3,    10] loss: 27.985\n",
            "[3,    20] loss: 26.579\n",
            "[3,    30] loss: 24.215\n",
            "\tTraining Loss: 5255.596678 \tValidation Loss: 1146.567939\n",
            "[4,    10] loss: 21.796\n",
            "[4,    20] loss: 21.063\n",
            "[4,    30] loss: 17.443\n",
            "\tTraining Loss: 4026.379943 \tValidation Loss: 555.544335\n",
            "[5,    10] loss: 16.622\n",
            "[5,    20] loss: 13.822\n",
            "[5,    30] loss: 12.067\n",
            "\tTraining Loss: 2844.575503 \tValidation Loss: 176.931280\n",
            "[6,    10] loss: 11.268\n",
            "[6,    20] loss: 8.646\n",
            "[6,    30] loss: 8.299\n",
            "\tTraining Loss: 1882.875349 \tValidation Loss: 81.230965\n",
            "[7,    10] loss: 7.091\n",
            "[7,    20] loss: 5.821\n",
            "[7,    30] loss: 5.618\n",
            "\tTraining Loss: 1238.796449 \tValidation Loss: 228.529571\n",
            "[8,    10] loss: 4.668\n",
            "[8,    20] loss: 4.361\n",
            "[8,    30] loss: 4.381\n",
            "\tTraining Loss: 892.936406 \tValidation Loss: 484.776157\n",
            "[9,    10] loss: 3.880\n",
            "[9,    20] loss: 3.650\n",
            "[9,    30] loss: 3.793\n",
            "\tTraining Loss: 754.845091 \tValidation Loss: 715.890486\n",
            "[10,    10] loss: 3.592\n",
            "[10,    20] loss: 3.405\n",
            "[10,    30] loss: 3.715\n",
            "\tTraining Loss: 714.411413 \tValidation Loss: 854.931514\n",
            "[11,    10] loss: 3.465\n",
            "[11,    20] loss: 3.645\n",
            "[11,    30] loss: 3.449\n",
            "\tTraining Loss: 703.653007 \tValidation Loss: 938.561832\n",
            "[12,    10] loss: 3.583\n",
            "[12,    20] loss: 3.586\n",
            "[12,    30] loss: 3.395\n",
            "\tTraining Loss: 703.537361 \tValidation Loss: 962.891601\n",
            "[13,    10] loss: 3.482\n",
            "[13,    20] loss: 3.459\n",
            "[13,    30] loss: 3.584\n",
            "\tTraining Loss: 700.562307 \tValidation Loss: 972.024546\n",
            "[14,    10] loss: 3.403\n",
            "[14,    20] loss: 3.778\n",
            "[14,    30] loss: 3.379\n",
            "\tTraining Loss: 703.758554 \tValidation Loss: 977.854300\n",
            "[15,    10] loss: 3.511\n",
            "[15,    20] loss: 3.315\n",
            "[15,    30] loss: 3.724\n",
            "\tTraining Loss: 703.891747 \tValidation Loss: 974.077062\n",
            "[16,    10] loss: 3.617\n",
            "[16,    20] loss: 3.351\n",
            "[16,    30] loss: 3.628\n",
            "\tTraining Loss: 704.524423 \tValidation Loss: 968.614405\n",
            "[17,    10] loss: 3.752\n",
            "[17,    20] loss: 3.427\n",
            "[17,    30] loss: 3.371\n",
            "\tTraining Loss: 703.426667 \tValidation Loss: 980.187368\n",
            "[18,    10] loss: 3.454\n",
            "[18,    20] loss: 3.555\n",
            "[18,    30] loss: 3.556\n",
            "\tTraining Loss: 702.944564 \tValidation Loss: 966.866659\n",
            "[19,    10] loss: 3.518\n",
            "[19,    20] loss: 3.441\n",
            "[19,    30] loss: 3.552\n",
            "\tTraining Loss: 701.211693 \tValidation Loss: 969.400551\n",
            "[20,    10] loss: 3.623\n",
            "[20,    20] loss: 3.219\n",
            "[20,    30] loss: 3.703\n",
            "\tTraining Loss: 702.724387 \tValidation Loss: 957.607082\n",
            "[21,    10] loss: 3.348\n",
            "[21,    20] loss: 3.525\n",
            "[21,    30] loss: 3.608\n",
            "\tTraining Loss: 698.013121 \tValidation Loss: 894.862850\n",
            "[22,    10] loss: 3.347\n",
            "[22,    20] loss: 3.316\n",
            "[22,    30] loss: 2.693\n",
            "\tTraining Loss: 625.874737 \tValidation Loss: 375.536212\n",
            "[23,    10] loss: 2.821\n",
            "[23,    20] loss: 2.081\n",
            "[23,    30] loss: 1.831\n",
            "\tTraining Loss: 449.317706 \tValidation Loss: 124.299135\n",
            "[24,    10] loss: 1.620\n",
            "[24,    20] loss: 1.543\n",
            "[24,    30] loss: 1.099\n",
            "\tTraining Loss: 285.090386 \tValidation Loss: 79.257519\n",
            "[25,    10] loss: 0.945\n",
            "[25,    20] loss: 0.943\n",
            "[25,    30] loss: 0.914\n",
            "\tTraining Loss: 186.922032 \tValidation Loss: 68.571329\n",
            "[26,    10] loss: 0.710\n",
            "[26,    20] loss: 0.625\n",
            "[26,    30] loss: 0.647\n",
            "\tTraining Loss: 132.492807 \tValidation Loss: 82.038178\n",
            "[27,    10] loss: 0.556\n",
            "[27,    20] loss: 0.497\n",
            "[27,    30] loss: 0.430\n",
            "\tTraining Loss: 99.330534 \tValidation Loss: 63.986538\n",
            "[28,    10] loss: 0.442\n",
            "[28,    20] loss: 0.371\n",
            "[28,    30] loss: 0.331\n",
            "\tTraining Loss: 76.212533 \tValidation Loss: 71.422976\n",
            "[29,    10] loss: 0.323\n",
            "[29,    20] loss: 0.307\n",
            "[29,    30] loss: 0.306\n",
            "\tTraining Loss: 62.479601 \tValidation Loss: 60.864055\n",
            "[30,    10] loss: 0.284\n",
            "[30,    20] loss: 0.263\n",
            "[30,    30] loss: 0.207\n",
            "\tTraining Loss: 50.409174 \tValidation Loss: 68.498693\n",
            "[31,    10] loss: 0.210\n",
            "[31,    20] loss: 0.200\n",
            "[31,    30] loss: 0.187\n",
            "\tTraining Loss: 39.842951 \tValidation Loss: 55.998918\n",
            "[32,    10] loss: 0.197\n",
            "[32,    20] loss: 0.173\n",
            "[32,    30] loss: 0.173\n",
            "\tTraining Loss: 36.254697 \tValidation Loss: 48.807297\n",
            "[33,    10] loss: 0.177\n",
            "[33,    20] loss: 0.133\n",
            "[33,    30] loss: 0.154\n",
            "\tTraining Loss: 30.947438 \tValidation Loss: 46.657372\n",
            "[34,    10] loss: 0.136\n",
            "[34,    20] loss: 0.129\n",
            "[34,    30] loss: 0.139\n",
            "\tTraining Loss: 26.874614 \tValidation Loss: 51.732612\n",
            "[35,    10] loss: 0.132\n",
            "[35,    20] loss: 0.119\n",
            "[35,    30] loss: 0.135\n",
            "\tTraining Loss: 25.880773 \tValidation Loss: 38.622718\n",
            "[36,    10] loss: 0.121\n",
            "[36,    20] loss: 0.124\n",
            "[36,    30] loss: 0.098\n",
            "\tTraining Loss: 22.942966 \tValidation Loss: 40.073811\n",
            "[37,    10] loss: 0.102\n",
            "[37,    20] loss: 0.118\n",
            "[37,    30] loss: 0.100\n",
            "\tTraining Loss: 21.145312 \tValidation Loss: 40.667030\n",
            "[38,    10] loss: 0.112\n",
            "[38,    20] loss: 0.093\n",
            "[38,    30] loss: 0.111\n",
            "\tTraining Loss: 21.048274 \tValidation Loss: 39.018204\n",
            "[39,    10] loss: 0.102\n",
            "[39,    20] loss: 0.091\n",
            "[39,    30] loss: 0.092\n",
            "\tTraining Loss: 18.984248 \tValidation Loss: 42.971825\n",
            "[40,    10] loss: 0.098\n",
            "[40,    20] loss: 0.108\n",
            "[40,    30] loss: 0.086\n",
            "\tTraining Loss: 19.446967 \tValidation Loss: 40.771141\n",
            "[41,    10] loss: 0.079\n",
            "[41,    20] loss: 0.084\n",
            "[41,    30] loss: 0.090\n",
            "\tTraining Loss: 16.748401 \tValidation Loss: 39.872818\n",
            "[42,    10] loss: 0.090\n",
            "[42,    20] loss: 0.079\n",
            "[42,    30] loss: 0.087\n",
            "\tTraining Loss: 17.105043 \tValidation Loss: 41.345439\n",
            "[43,    10] loss: 0.086\n",
            "[43,    20] loss: 0.076\n",
            "[43,    30] loss: 0.090\n",
            "\tTraining Loss: 16.712407 \tValidation Loss: 41.012684\n",
            "[44,    10] loss: 0.085\n",
            "[44,    20] loss: 0.076\n",
            "[44,    30] loss: 0.070\n",
            "\tTraining Loss: 15.393275 \tValidation Loss: 40.956402\n",
            "[45,    10] loss: 0.078\n",
            "[45,    20] loss: 0.070\n",
            "[45,    30] loss: 0.069\n",
            "\tTraining Loss: 14.548372 \tValidation Loss: 42.826145\n",
            "[46,    10] loss: 0.074\n",
            "[46,    20] loss: 0.082\n",
            "[46,    30] loss: 0.075\n",
            "\tTraining Loss: 15.502950 \tValidation Loss: 41.630445\n",
            "[47,    10] loss: 0.075\n",
            "[47,    20] loss: 0.073\n",
            "[47,    30] loss: 0.076\n",
            "\tTraining Loss: 14.853496 \tValidation Loss: 40.297446\n",
            "[48,    10] loss: 0.068\n",
            "[48,    20] loss: 0.073\n",
            "[48,    30] loss: 0.077\n",
            "\tTraining Loss: 14.664479 \tValidation Loss: 42.151966\n",
            "[49,    10] loss: 0.112\n",
            "[49,    20] loss: 0.101\n",
            "[49,    30] loss: 0.087\n",
            "\tTraining Loss: 20.046751 \tValidation Loss: 41.848077\n",
            "[50,    10] loss: 0.072\n",
            "[50,    20] loss: 0.084\n",
            "[50,    30] loss: 0.084\n",
            "\tTraining Loss: 15.927144 \tValidation Loss: 42.981143\n",
            "[51,    10] loss: 0.072\n",
            "[51,    20] loss: 0.068\n",
            "[51,    30] loss: 0.065\n",
            "\tTraining Loss: 13.678578 \tValidation Loss: 46.837776\n",
            "[52,    10] loss: 0.063\n",
            "[52,    20] loss: 0.073\n",
            "[52,    30] loss: 0.075\n",
            "\tTraining Loss: 13.926209 \tValidation Loss: 47.013464\n",
            "[53,    10] loss: 0.078\n",
            "[53,    20] loss: 0.068\n",
            "[53,    30] loss: 0.063\n",
            "\tTraining Loss: 13.886831 \tValidation Loss: 45.861245\n",
            "[54,    10] loss: 0.069\n",
            "[54,    20] loss: 0.071\n",
            "[54,    30] loss: 0.081\n",
            "\tTraining Loss: 14.614696 \tValidation Loss: 46.825359\n",
            "[55,    10] loss: 0.062\n",
            "[55,    20] loss: 0.063\n",
            "[55,    30] loss: 0.061\n",
            "\tTraining Loss: 12.342833 \tValidation Loss: 49.708121\n",
            "[56,    10] loss: 0.064\n",
            "[56,    20] loss: 0.059\n",
            "[56,    30] loss: 0.058\n",
            "\tTraining Loss: 12.058096 \tValidation Loss: 51.723350\n",
            "[57,    10] loss: 0.064\n",
            "[57,    20] loss: 0.069\n",
            "[57,    30] loss: 0.071\n",
            "\tTraining Loss: 13.564571 \tValidation Loss: 51.033671\n",
            "[58,    10] loss: 0.051\n",
            "[58,    20] loss: 0.056\n",
            "[58,    30] loss: 0.065\n",
            "\tTraining Loss: 11.439309 \tValidation Loss: 53.904826\n",
            "[59,    10] loss: 0.054\n",
            "[59,    20] loss: 0.063\n",
            "[59,    30] loss: 0.074\n",
            "\tTraining Loss: 12.690133 \tValidation Loss: 53.836731\n",
            "[60,    10] loss: 0.071\n",
            "[60,    20] loss: 0.059\n",
            "[60,    30] loss: 0.059\n",
            "\tTraining Loss: 12.651119 \tValidation Loss: 62.334286\n",
            "[61,    10] loss: 0.053\n",
            "[61,    20] loss: 0.057\n",
            "[61,    30] loss: 0.062\n",
            "\tTraining Loss: 11.480365 \tValidation Loss: 58.033285\n",
            "[62,    10] loss: 0.065\n",
            "[62,    20] loss: 0.053\n",
            "[62,    30] loss: 0.054\n",
            "\tTraining Loss: 11.439562 \tValidation Loss: 56.299570\n",
            "[63,    10] loss: 0.057\n",
            "[63,    20] loss: 0.056\n",
            "[63,    30] loss: 0.059\n",
            "\tTraining Loss: 11.437153 \tValidation Loss: 57.994912\n",
            "[64,    10] loss: 0.061\n",
            "[64,    20] loss: 0.062\n",
            "[64,    30] loss: 0.061\n",
            "\tTraining Loss: 12.265940 \tValidation Loss: 57.070171\n",
            "[65,    10] loss: 0.061\n",
            "[65,    20] loss: 0.058\n",
            "[65,    30] loss: 0.061\n",
            "\tTraining Loss: 12.012881 \tValidation Loss: 58.068412\n",
            "[66,    10] loss: 0.061\n",
            "[66,    20] loss: 0.062\n",
            "[66,    30] loss: 0.060\n",
            "\tTraining Loss: 12.215601 \tValidation Loss: 54.232730\n",
            "[67,    10] loss: 0.058\n",
            "[67,    20] loss: 0.051\n",
            "[67,    30] loss: 0.064\n",
            "\tTraining Loss: 11.520118 \tValidation Loss: 56.507519\n",
            "[68,    10] loss: 0.053\n",
            "[68,    20] loss: 0.057\n",
            "[68,    30] loss: 0.058\n",
            "\tTraining Loss: 11.179227 \tValidation Loss: 57.095889\n",
            "[69,    10] loss: 0.058\n",
            "[69,    20] loss: 0.056\n",
            "[69,    30] loss: 0.062\n",
            "\tTraining Loss: 11.698724 \tValidation Loss: 55.210890\n",
            "[70,    10] loss: 0.058\n",
            "[70,    20] loss: 0.058\n",
            "[70,    30] loss: 0.057\n",
            "\tTraining Loss: 11.489369 \tValidation Loss: 61.697140\n",
            "[71,    10] loss: 0.061\n",
            "[71,    20] loss: 0.061\n",
            "[71,    30] loss: 0.074\n",
            "\tTraining Loss: 13.065691 \tValidation Loss: 58.119681\n",
            "[72,    10] loss: 0.055\n",
            "[72,    20] loss: 0.053\n",
            "[72,    30] loss: 0.058\n",
            "\tTraining Loss: 11.017667 \tValidation Loss: 57.809375\n",
            "[73,    10] loss: 0.058\n",
            "[73,    20] loss: 0.054\n",
            "[73,    30] loss: 0.052\n",
            "\tTraining Loss: 10.893462 \tValidation Loss: 70.157002\n",
            "[74,    10] loss: 0.050\n",
            "[74,    20] loss: 0.057\n",
            "[74,    30] loss: 0.064\n",
            "\tTraining Loss: 11.393631 \tValidation Loss: 56.564572\n",
            "[75,    10] loss: 0.055\n",
            "[75,    20] loss: 0.056\n",
            "[75,    30] loss: 0.052\n",
            "\tTraining Loss: 10.771631 \tValidation Loss: 58.836411\n",
            "[76,    10] loss: 0.057\n",
            "[76,    20] loss: 0.058\n",
            "[76,    30] loss: 0.063\n",
            "\tTraining Loss: 11.832163 \tValidation Loss: 58.782441\n",
            "[77,    10] loss: 0.057\n",
            "[77,    20] loss: 0.057\n",
            "[77,    30] loss: 0.052\n",
            "\tTraining Loss: 11.026559 \tValidation Loss: 58.572860\n",
            "[78,    10] loss: 0.048\n",
            "[78,    20] loss: 0.048\n",
            "[78,    30] loss: 0.051\n",
            "\tTraining Loss: 9.730421 \tValidation Loss: 55.266207\n",
            "[79,    10] loss: 0.063\n",
            "[79,    20] loss: 0.058\n",
            "[79,    30] loss: 0.058\n",
            "\tTraining Loss: 11.854350 \tValidation Loss: 52.511969\n",
            "[80,    10] loss: 0.059\n",
            "[80,    20] loss: 0.051\n",
            "[80,    30] loss: 0.056\n",
            "\tTraining Loss: 11.107601 \tValidation Loss: 51.922862\n",
            "[81,    10] loss: 0.048\n",
            "[81,    20] loss: 0.050\n",
            "[81,    30] loss: 0.055\n",
            "\tTraining Loss: 10.178181 \tValidation Loss: 54.164783\n",
            "[82,    10] loss: 0.051\n",
            "[82,    20] loss: 0.053\n",
            "[82,    30] loss: 0.057\n",
            "\tTraining Loss: 10.713913 \tValidation Loss: 51.669736\n",
            "[83,    10] loss: 0.056\n",
            "[83,    20] loss: 0.062\n",
            "[83,    30] loss: 0.052\n",
            "\tTraining Loss: 11.362075 \tValidation Loss: 55.324729\n",
            "[84,    10] loss: 0.051\n",
            "[84,    20] loss: 0.054\n",
            "[84,    30] loss: 0.051\n",
            "\tTraining Loss: 10.422788 \tValidation Loss: 51.606493\n",
            "[85,    10] loss: 0.058\n",
            "[85,    20] loss: 0.050\n",
            "[85,    30] loss: 0.056\n",
            "\tTraining Loss: 10.949450 \tValidation Loss: 51.806049\n",
            "[86,    10] loss: 0.063\n",
            "[86,    20] loss: 0.061\n",
            "[86,    30] loss: 0.069\n",
            "\tTraining Loss: 12.626486 \tValidation Loss: 53.446469\n",
            "[87,    10] loss: 0.060\n",
            "[87,    20] loss: 0.053\n",
            "[87,    30] loss: 0.051\n",
            "\tTraining Loss: 10.972072 \tValidation Loss: 56.953381\n",
            "[88,    10] loss: 0.053\n",
            "[88,    20] loss: 0.052\n",
            "[88,    30] loss: 0.055\n",
            "\tTraining Loss: 10.606947 \tValidation Loss: 50.896794\n",
            "[89,    10] loss: 0.059\n",
            "[89,    20] loss: 0.060\n",
            "[89,    30] loss: 0.048\n",
            "\tTraining Loss: 11.182644 \tValidation Loss: 50.083495\n",
            "[90,    10] loss: 0.056\n",
            "[90,    20] loss: 0.054\n",
            "[90,    30] loss: 0.057\n",
            "\tTraining Loss: 11.141383 \tValidation Loss: 51.552855\n",
            "[91,    10] loss: 0.045\n",
            "[91,    20] loss: 0.054\n",
            "[91,    30] loss: 0.055\n",
            "\tTraining Loss: 10.301499 \tValidation Loss: 48.818139\n",
            "[92,    10] loss: 0.059\n",
            "[92,    20] loss: 0.054\n",
            "[92,    30] loss: 0.050\n",
            "\tTraining Loss: 10.914838 \tValidation Loss: 49.262079\n",
            "[93,    10] loss: 0.045\n",
            "[93,    20] loss: 0.055\n",
            "[93,    30] loss: 0.051\n",
            "\tTraining Loss: 10.034504 \tValidation Loss: 46.668991\n",
            "[94,    10] loss: 0.049\n",
            "[94,    20] loss: 0.043\n",
            "[94,    30] loss: 0.052\n",
            "\tTraining Loss: 9.562170 \tValidation Loss: 48.213264\n",
            "[95,    10] loss: 0.046\n",
            "[95,    20] loss: 0.064\n",
            "[95,    30] loss: 0.045\n",
            "\tTraining Loss: 10.304313 \tValidation Loss: 47.946846\n",
            "[96,    10] loss: 0.043\n",
            "[96,    20] loss: 0.043\n",
            "[96,    30] loss: 0.045\n",
            "\tTraining Loss: 8.702410 \tValidation Loss: 47.933667\n",
            "[97,    10] loss: 0.051\n",
            "[97,    20] loss: 0.050\n",
            "[97,    30] loss: 0.043\n",
            "\tTraining Loss: 9.637223 \tValidation Loss: 48.515852\n",
            "[98,    10] loss: 0.045\n",
            "[98,    20] loss: 0.051\n",
            "[98,    30] loss: 0.061\n",
            "\tTraining Loss: 10.450336 \tValidation Loss: 54.305125\n",
            "[99,    10] loss: 0.062\n",
            "[99,    20] loss: 0.063\n",
            "[99,    30] loss: 0.046\n",
            "\tTraining Loss: 11.488294 \tValidation Loss: 45.293995\n",
            "[100,    10] loss: 0.045\n",
            "[100,    20] loss: 0.054\n",
            "[100,    30] loss: 0.050\n",
            "\tTraining Loss: 9.988194 \tValidation Loss: 44.829839\n",
            "Finished Training\n"
          ]
        },
        {
          "output_type": "display_data",
          "data": {
            "text/plain": [
              "<Figure size 432x288 with 1 Axes>"
            ],
            "image/png": "[encoded data removed]"
          },
          "metadata": {
            "needs_background": "light"
          }
        }
      ],
      "source": [
        "## Training\n",
        "checkpoint = \"./checkpoint/save.pt\"\n",
        "if not os.path.isfile(checkpoint):\n",
        "  os.makedirs(\"./checkpoint\")\n",
        "  #改\n",
        "  trainer(net, criterion, optimizer, trainloader, testloader, epoch_n=100, path=checkpoint)\n",
        "else:\n",
        "  net.load_state_dict(torch.load(checkpoint))"
      ]
    },
    {
      "cell_type": "markdown",
      "metadata": {
        "id": "e7t_gO-3AY2i"
      },
      "source": [
        "# Test the Data\n",
        "Now let's compare with the test data"
      ]
    },
    {
      "cell_type": "code",
      "execution_count": 62,
      "metadata": {
        "id": "t_DRUA3l_tdd",
        "colab": {
          "base_uri": "https://localhost:8080/"
        },
        "outputId": "72f3e6ee-dd1a-4326-a9f1-decedd3877e0"
      },
      "outputs": [
        {
          "output_type": "stream",
          "name": "stdout",
          "text": [
            "Test Result:  27.546098709106445\n"
          ]
        }
      ],
      "source": [
        "test = tester(net, criterion, testloader)\n",
        "# Show the difference between predict and groundtruth (loss)\n",
        "print('Test Result: ', test)"
      ]
    },
    {
      "cell_type": "markdown",
      "metadata": {
        "id": "cKN0jGueAnhN"
      },
      "source": [
        "# Predict\n",
        "Our model is now ready! \n",
        "\n",
        "Let's try with some sample data!\n",
        "Suppose the closing data, \n",
        "* Monday = 126\n",
        "* Tuesday = 124\n",
        "* Wednesday = 124\n",
        "* Thursday = 122.5\n",
        "* Friday = 121\n",
        "\n",
        "So, the model is predicting the next day given the input of 5 day closing values"
      ]
    },
    {
      "cell_type": "code",
      "execution_count": 63,
      "metadata": {
        "id": "70ehxcuAAiZD",
        "colab": {
          "base_uri": "https://localhost:8080/"
        },
        "outputId": "de890642-63b6-4687-cd82-33879b900335"
      },
      "outputs": [
        {
          "output_type": "stream",
          "name": "stdout",
          "text": [
            "Predicted Result 109.35045623779297\n"
          ]
        }
      ],
      "source": [
        "predict = net.predict(torch.tensor([[126, 124, 124, 122.5, 121]], dtype=torch.float32).to(device))\n",
        "print('Predicted Result', predict)"
      ]
    },
    {
      "cell_type": "markdown",
      "metadata": {
        "id": "36tyoplUCIov"
      },
      "source": [
        "What can you do to improve the performance?\n",
        "\n",
        "* Increase the epoch\n",
        "* You can use multiple input data (Maybe closing data and volume has a relation!)\n",
        "* Try out different loss function\n",
        "* Evaluate the test data and training data and see the accuracy \n",
        "* Experiment with the code"
      ]
    },
    {
      "cell_type": "markdown",
      "metadata": {
        "id": "4YlKIBPMGmYO"
      },
      "source": [
        "# Report Guidelines\n",
        "In the field of Computer Science, most of the latest techniques are proposed at conferences instead of journal, like NIPS, ACL, CVPR, AAAI and so on.\n",
        "\n",
        "We will follow IEEE guidelines to write paper report.\n",
        "A proper report will contain-\n",
        " * Abstract\n",
        " * Introduction\n",
        " * Methods\n",
        " * Experiment\n",
        " * Results\n",
        " * Conclusion \n",
        " * References\n",
        " For more details: https://www.ieee.org/conferences/publishing/templates.html\n",
        " We recommend to use overleaf latex Editor."
      ]
    },
    {
      "cell_type": "markdown",
      "metadata": {
        "id": "JTSKbgXQgVAS"
      },
      "source": [
        "# Grading\n",
        " Grading is based on your report.\n",
        "Below are the grading policy for this homework:\n",
        "* The report should be in English.\n",
        "* Introduction & Conclusion (30%)\n",
        "* Methods (30%)\n",
        "* Experiment & Results (30%)\n",
        "* Abstract & References (10%)"
      ]
    },
    {
      "cell_type": "markdown",
      "metadata": {
        "id": "jtH-h71dHgzS"
      },
      "source": [
        "# Final Project\n",
        "We suggest selecting one interesting topic as early as possible. Most of the students here are undergraduate or new to coding, it would be the best time for you to develop your knowledge and the ability to implement code by reading research papers. \n"
      ]
    },
    {
      "cell_type": "markdown",
      "metadata": {
        "id": "zWRSXmOy1aLM"
      },
      "source": [
        "# Papers\n",
        "You can find papers here:\n",
        "* https://arxiv.org\n",
        "* Google Scholar\n",
        "* Conference Websites"
      ]
    },
    {
      "cell_type": "code",
      "execution_count": 63,
      "metadata": {
        "id": "WVvzCvI61z81"
      },
      "outputs": [],
      "source": []
    }
  ],
  "metadata": {
    "accelerator": "GPU",
    "colab": {
      "provenance": []
    },
    "gpuClass": "standard",
    "kernelspec": {
      "display_name": "Python 3",
      "language": "python",
      "name": "python3"
    },
    "language_info": {
      "codemirror_mode": {
        "name": "ipython",
        "version": 3
      },
      "file_extension": ".py",
      "mimetype": "text/x-python",
      "name": "python",
      "nbconvert_exporter": "python",
      "pygments_lexer": "ipython3",
      "version": "3.10.9"
    }
  },
  "nbformat": 4,
  "nbformat_minor": 0
}