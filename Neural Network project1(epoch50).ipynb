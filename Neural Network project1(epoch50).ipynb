{
  "cells": [
    {
      "cell_type": "markdown",
      "metadata": {
        "id": "jQfp7hIf8UjE"
      },
      "source": [
        "# Install Environment\n",
        "\n",
        "*   For ease of use, we recommend using Google Colab\n",
        "*   You can also use Jupyter Notebook locally (Desktop,laptop,Server)\n",
        "*   You can check this link for further [reference](https://towardsdatascience.com/how-to-set-up-anaconda-and-jupyter-notebook-the-right-way-de3b7623ea4a)\n",
        "* We recommend to install [Anaconda](https://docs.anaconda.com/anaconda/install/index.html) or [Miniconda](https://docs.conda.io/en/latest/miniconda.html) first\n",
        "* Lastly prepare GPU for faster processing\n",
        "\n",
        "Most of the new research papers use Python3 as their programming language. \n",
        "However, if you use Colab as your training environment, Google will build that for you.\n",
        "Also, you can activate GPU by changing the Runtime in Google Colab.\n",
        "\n"
      ]
    },
    {
      "cell_type": "markdown",
      "metadata": {
        "id": "Kak0E7knFS8a"
      },
      "source": [
        "# Install libraries\n",
        "## First install Pytorch\n",
        "Nowadays, there are many kinds of training framework in the world. Some of which support by tech companies or research centers.\n",
        "The most common are [PyTorch](https://pytorch.org/) and [Tensorflow](https://www.tensorflow.org).\n",
        "\n",
        "Here, we will use PyTorch as our framework to build our training scripts. Because it is easy-to-use and being popular for researchers, most of the papers using pytorch as their first selection.\n",
        "But if in industrial enviroment, TensorFlow would be the better selection for your product.\n"
      ]
    },
    {
      "cell_type": "markdown",
      "metadata": {
        "id": "CpBsUKCaNHHU"
      },
      "source": [
        "We will uninstall Tensorflow first"
      ]
    },
    {
      "cell_type": "code",
      "execution_count": 43,
      "metadata": {
        "colab": {
          "base_uri": "https://localhost:8080/"
        },
        "id": "gwTm1dl672f4",
        "outputId": "3b56b5f2-37eb-4abc-81b1-8f2d39307722"
      },
      "outputs": [
        {
          "output_type": "stream",
          "name": "stdout",
          "text": [
            "\u001b[33mWARNING: Skipping tensorflow as it is not installed.\u001b[0m\u001b[33m\n",
            "\u001b[0m"
          ]
        }
      ],
      "source": [
        "# We won't need TensorFlow here\n",
        "!pip uninstall -y tensorflow"
      ]
    },
    {
      "cell_type": "code",
      "execution_count": 44,
      "metadata": {
        "colab": {
          "base_uri": "https://localhost:8080/"
        },
        "id": "t05UKUpbNQ9A",
        "outputId": "fb77747a-16e9-4bca-c10f-0a81e3a8f10d"
      },
      "outputs": [
        {
          "output_type": "stream",
          "name": "stdout",
          "text": [
            "Looking in indexes: https://pypi.org/simple, https://us-python.pkg.dev/colab-wheels/public/simple/\n",
            "Requirement already satisfied: torch in /usr/local/lib/python3.9/dist-packages (1.13.1+cu116)\n",
            "Requirement already satisfied: torchvision in /usr/local/lib/python3.9/dist-packages (0.14.1+cu116)\n",
            "Requirement already satisfied: typing-extensions in /usr/local/lib/python3.9/dist-packages (from torch) (4.5.0)\n",
            "Requirement already satisfied: requests in /usr/local/lib/python3.9/dist-packages (from torchvision) (2.27.1)\n",
            "Requirement already satisfied: pillow!=8.3.*,>=5.3.0 in /usr/local/lib/python3.9/dist-packages (from torchvision) (8.4.0)\n",
            "Requirement already satisfied: numpy in /usr/local/lib/python3.9/dist-packages (from torchvision) (1.22.4)\n",
            "Requirement already satisfied: charset-normalizer~=2.0.0 in /usr/local/lib/python3.9/dist-packages (from requests->torchvision) (2.0.12)\n",
            "Requirement already satisfied: idna<4,>=2.5 in /usr/local/lib/python3.9/dist-packages (from requests->torchvision) (3.4)\n",
            "Requirement already satisfied: urllib3<1.27,>=1.21.1 in /usr/local/lib/python3.9/dist-packages (from requests->torchvision) (1.26.15)\n",
            "Requirement already satisfied: certifi>=2017.4.17 in /usr/local/lib/python3.9/dist-packages (from requests->torchvision) (2022.12.7)\n"
          ]
        }
      ],
      "source": [
        "# install PyTorch\n",
        "!pip install torch torchvision"
      ]
    },
    {
      "cell_type": "markdown",
      "metadata": {
        "id": "N7Gm1E67cj5Q"
      },
      "source": [
        "# Utility Functions\n",
        "Basic utility functions like saving the model to reading the data.\n",
        "As you can see we use **pickling** to save and load the checkpoints.\n",
        "You can read more about this here: https://snyk.io/blog/guide-to-python-pickle/"
      ]
    },
    {
      "cell_type": "code",
      "execution_count": 45,
      "metadata": {
        "id": "k6HC_VEzcqu7"
      },
      "outputs": [],
      "source": [
        "import pickle\n",
        "import numpy as np\n",
        "import torch\n",
        "\n",
        "\n",
        "def pickleStore(savethings, filename):\n",
        "  # Store the checkpoint\n",
        "    dbfile = open( filename , 'wb' )\n",
        "    pickle.dump( savethings , dbfile )\n",
        "    dbfile.close()\n",
        "    return\n",
        "\n",
        "\n",
        "def pikleOpen(filename):\n",
        "  # Open the model\n",
        "    file_to_read = open( filename , \"rb\" )\n",
        "    p = pickle.load( file_to_read )\n",
        "    return p\n",
        "\n",
        "\n",
        "def readData(f):\n",
        "  # Read Data from the system\n",
        "    return np.genfromtxt(f, delimiter=',', dtype=str)[1:]\n",
        "\n",
        "\n",
        "def saveModel(net, path):\n",
        "  # Save the model\n",
        "    torch.save(net.state_dict(), path)"
      ]
    },
    {
      "cell_type": "markdown",
      "metadata": {
        "id": "lF9CFW-ZQoJg"
      },
      "source": [
        "# Training Framework\n",
        "In order to start training, we have to follow these steps:\n",
        "\n",
        "1.  Dataset\n",
        "2.  Pre-processing\n",
        "3.  Dataloader\n",
        "4.  Model\n",
        "5.  Training Part and Testing Part\n",
        "6.  Optimizer\n",
        "7.  Loss Function\n"
      ]
    },
    {
      "cell_type": "markdown",
      "metadata": {
        "id": "5MQKbSPrO9oL"
      },
      "source": [
        "## Dataset\n",
        "We need to format our data to meet the needs from models. The advantage is we load the data by batch instead of loading all of the dataset into the memory. Here we use the pre-build dataset component.\n",
        "You also can build your own Dataset object by yourself, and it should follow these methods:\n",
        "* Declaring it as an extended Dataset Object\n",
        "* Defining ``__init__``, ``__len__``, ``__getitem__`` functions"
      ]
    },
    {
      "cell_type": "code",
      "execution_count": 46,
      "metadata": {
        "id": "xBSFkTivO75j"
      },
      "outputs": [],
      "source": [
        "import torch\n",
        "\n",
        "\n",
        "class Dataset(torch.utils.data.Dataset):\n",
        "    'Characterizes a dataset for PyTorch'\n",
        "    def __init__(self, data, labels, device='gpu'):\n",
        "        'Initialization'\n",
        "        self.data = data.to(device)\n",
        "        self.labels = labels\n",
        "\n",
        "    def __len__(self):\n",
        "        'Denotes the total number of samples'\n",
        "        return len(self.labels)\n",
        "\n",
        "    def __getitem__(self, index):\n",
        "        'Generates one sample of data'\n",
        "        # Load data and get label\n",
        "        X = self.data[index]\n",
        "        y = self.labels[index]\n",
        "        return X, y, index"
      ]
    },
    {
      "cell_type": "markdown",
      "metadata": {
        "id": "zuw1SAdZTGbn"
      },
      "source": [
        "# Pre-processing\n",
        "We need to pre-process the data before training. Preprocessing helps us to segment more data and clear out anomalies(異常) manually if present.\n",
        "It also helps us in understanding the data and thus it will eventually help in better performance of the model."
      ]
    },
    {
      "cell_type": "code",
      "execution_count": 47,
      "metadata": {
        "id": "U8KJx8OPTrla"
      },
      "outputs": [],
      "source": [
        "import numpy as np\n",
        "import torch\n",
        "\n",
        "\n",
        "def preprocess(data, flip=True):\n",
        "    date   = data[:, 0]\n",
        "    open   = data[:, 1]\n",
        "    high   = data[:, 2]\n",
        "    low    = data[:, 3]\n",
        "    close  = data[:, 4]\n",
        "    volume = data[:, 5]\n",
        "    #array([105., 112., 110., 118., 120.])\n",
        "    prices = np.array([close for date, open, high, low, close, volume in data]).astype(np.float64)\n",
        "    #如果flip為真就使用NumPy的flip()函数将prices数组反转。这个操作可以将数据的时间顺序倒转，用于一些需要倒叙处理数据的模型。\n",
        "    if flip:\n",
        "        prices = np.flip(prices)\n",
        "    #print(prices)\n",
        "    return prices\n",
        "\n",
        "\n",
        "def train_test_split(data, percentage=0.8):\n",
        "    train_size  = int(len(data) * percentage)\n",
        "    train, test = data[:train_size], data[train_size:]\n",
        "    return train, test\n",
        "\n",
        "# 改\n",
        "def transform_dataset(dataset, look_back=20):\n",
        "    # N days as training sample\n",
        "    dataX = [dataset[i:(i + look_back)]\n",
        "            for i in range(len(dataset)-look_back-1)]\n",
        "    # 1 day as groundtruth\n",
        "    dataY = [dataset[i + look_back]\n",
        "            for i in range(len(dataset)-look_back-1)]\n",
        "    return torch.tensor(np.array(dataX), dtype=torch.float32), torch.tensor(np.array(dataY), dtype=torch.float32)\n"
      ]
    },
    {
      "cell_type": "markdown",
      "metadata": {
        "id": "seNtUE_pRboS"
      },
      "source": [
        "# DataLoader\n",
        "DataLoader provides data to trainer each batch. It fetches the data and indices from dataSet object and combine them as the output.More about parameters:\n",
        "https://pytorch.org/tutorials/beginner/basics/data_tutorial.html.\n",
        "Fortunately, PyTorch has built in DataLoader function. But if you want to learn more, hit that link above.\n",
        "One more thing,DO NOT use test data in training.Train data and test data should be mutual exclusive.**BE CAREFUL ABOUT THIS.**\n"
      ]
    },
    {
      "cell_type": "code",
      "execution_count": 48,
      "metadata": {
        "id": "bCNCwYtPUhMA"
      },
      "outputs": [],
      "source": [
        "# Demo Code\n",
        "#from torch.utils.data import DataLoader"
      ]
    },
    {
      "cell_type": "markdown",
      "metadata": {
        "id": "HM02SQB5VcYo"
      },
      "source": [
        "# Model\n",
        "Model is the algorithm of how to map input to label. And it has three methods we need to define: ``__init__``, ``predict`` and ``forward``. \n",
        "\n",
        "**DO NOT** declare your forward layer inside forward function, cause in each epoch we need to update the parameters of each layers inside the model.\n",
        "If training with GPU, **DO NOT** forget to assign the GPU device for your model.\n",
        "You can see that instead of RNN I have used LSTM.- You can try different methods and experiment.\n",
        "\n",
        "For more details:\n",
        "* https://medium.com/analytics-vidhya/rnn-vs-gru-vs-lstm-863b0b7b1573\n",
        "* https://ai.stackexchange.com/questions/18198/what-is-the-difference-between-lstm-and-rnn\n",
        "* https://pytorch.org/docs/stable/generated/torch.nn.RNN.html\n",
        "* https://pytorch.org/docs/stable/generated/torch.nn.Linear.html"
      ]
    },
    {
      "cell_type": "code",
      "execution_count": 49,
      "metadata": {
        "id": "Zc2NrxD1V6Bo"
      },
      "outputs": [],
      "source": [
        "import torch.nn as nn\n",
        "import torch\n",
        "\n",
        "\n",
        "class LSTMPredictor(nn.Module):\n",
        "#改\n",
        "    def __init__(self, look_back, num_layers=2, dropout=0.3, bidirectional=True):\n",
        "        #首先调用父类 nn.Module 的构造函数，初始化模型的基本属性。\n",
        "        super(LSTMPredictor, self).__init__()\n",
        "\n",
        "        # Nerual Layers LSTM - Long Short Term Memory\n",
        "        #定义 LSTM 层，输入维度为 look_back，输出维度为 32。这里 num_layers=2 表示 LSTM 层有两层，dropout=0.3 表示在训练时对 LSTM 输出进行 dropout，bidirectional=True 表示使用双向 LSTM。\n",
        "        self.rnn   = nn.LSTM(look_back, 32, num_layers, dropout=dropout, bidirectional=True)\n",
        "        #定义一个全连接层，输入维度为 32*(2 if bidirectional else 1)，输出维度为 16。这里 2 if bidirectional else 1 的意思是如果使用双向 LSTM，输入维度需要乘以 2。\n",
        "        self.ly_a  = nn.Linear(32*(2 if bidirectional else 1), 16)\n",
        "        # self.ly_a  = nn.Linear(look_back, 16)\n",
        "        #relu 激活函數\n",
        "        self.relu  = nn.ReLU()\n",
        "        self.reg   = nn.Linear(16, 1)\n",
        "\n",
        "    def predict(self, input):\n",
        "        with torch.no_grad():\n",
        "            return self.forward(input).item()\n",
        "    #forward 函數是nn.Module類中的一個方法\n",
        "    def forward(self, input):\n",
        "        r_out, (h_n, h_c) = self.rnn(input.unsqueeze(1), None)\n",
        "        # print(r_out.shape)\n",
        "        # input()\n",
        "        logits = self.reg(self.relu(self.ly_a(r_out.squeeze(1))))\n",
        "        # logits = self.reg(self.relu(self.ly_a(input)))\n",
        "\n",
        "        return logits"
      ]
    },
    {
      "cell_type": "markdown",
      "metadata": {
        "id": "RyTEMBRgbRNA"
      },
      "source": [
        "# Training and Testing part\n",
        "We finally define the Dataset, DataLoader and Model. But there are still some more things that need to be done. We need to input the data to model, get the predicted output, calculate the criterion and update the parameters of the model."
      ]
    },
    {
      "cell_type": "markdown",
      "metadata": {
        "id": "3IBfVqwgdeIt"
      },
      "source": [
        "## Training Function\n",
        "First is the training part. Training map the relationship between input and label, also update the parameters at the stage.\n",
        "**DO NOT** forget to move your data to **GPU**, model and data should both at the same place.\n",
        "One more thing, we suggest writing the checkpoint if your experiment taking too long time."
      ]
    },
    {
      "cell_type": "code",
      "execution_count": 50,
      "metadata": {
        "id": "x2aZelKYcL-_"
      },
      "outputs": [],
      "source": [
        "import numpy as np\n",
        "import torch\n",
        "import matplotlib.pyplot as plt\n",
        "import sys\n",
        "# insert at 1, 0 is the script path (or '' in REPL)\n",
        "sys.path.insert(1, '../')\n",
        "\n",
        "\n",
        "\n",
        "def trainer(net, criterion, optimizer, trainloader, devloader, epoch_n=100, path=\"./checkpoint/save.pt\"):\n",
        "    train_losses, valid_losses = [], []\n",
        "    for epoch in range(epoch_n): # loop over the dataset multiple times\n",
        "        net.train()\n",
        "        running_loss = 0.0\n",
        "        train_loss = 0.0\n",
        "        valid_loss = 0.0\n",
        "        #对于每个训练样本，使用enumerate()函数获得其索引和数据。\n",
        "        for i, data in enumerate(trainloader, 0):\n",
        "            # get the iputs; data is a list of [inputs, labels]\n",
        "            inputs, labels, data_index = data\n",
        "            # zero the parameter gradients\n",
        "            optimizer.zero_grad()\n",
        "            # forward + backward + optimize\n",
        "            outputs = net(inputs)\n",
        "            loss = criterion(outputs.cpu(), labels.unsqueeze(1).cpu())\n",
        "            train_loss += loss.item()*inputs.shape[0]\n",
        "            loss.backward()\n",
        "            optimizer.step()\n",
        "\n",
        "            # print statistics\n",
        "            running_loss += loss.item()\n",
        "            if i % 10 == 9:    # print every 2000 mini-batches\n",
        "                print('[%d, %5d] loss: %.3f' %(epoch + 1, i + 1, running_loss / 2000))\n",
        "                running_loss = 0.0\n",
        "\n",
        "        ######################    \n",
        "        # validate the model #\n",
        "        ######################\n",
        "        net.eval()\n",
        "        for i, data in enumerate(devloader, 0):\n",
        "            # move tensors to GPU if CUDA is available\n",
        "            inputs, labels, data_index = data\n",
        "            # forward pass: compute predicted outputs by passing inputs to the model\n",
        "            outputs = net(inputs)\n",
        "            # calculate the batch loss\n",
        "            loss = criterion(outputs.cpu(), labels.cpu())\n",
        "            # update average validation loss \n",
        "            valid_loss += loss.item()*inputs.shape[0]\n",
        "        \n",
        "        # calculate average losses\n",
        "        train_loss = train_loss/len(trainloader.dataset)\n",
        "        valid_loss = valid_loss/len(devloader.dataset)\n",
        "    \n",
        "        # print training/validation statistics \n",
        "        print('\\tTraining Loss: {:.6f} \\tValidation Loss: {:.6f}'.format(train_loss, valid_loss))\n",
        "        train_losses.append(train_loss)\n",
        "        valid_losses.append(valid_loss)\n",
        "    print('Finished Training')\n",
        "    plt.plot(range(1, epoch_n+1), train_losses, label='Training Loss')\n",
        "    plt.plot(range(1, epoch_n+1), valid_losses, label='Validation Loss')\n",
        "    plt.xlabel('Epoch')\n",
        "    plt.ylabel('Loss')\n",
        "    plt.legend()\n",
        "    plt.show()\n",
        "    ## Save model\n",
        "    saveModel(net, path)"
      ]
    },
    {
      "cell_type": "markdown",
      "metadata": {
        "id": "6Jqonn-Ueddc"
      },
      "source": [
        "Here,\n",
        "1. ``optimizer.zero_grad`` means to set the gradient to zero. In each batch, the loss value isaccumulated from the samples' loss value.\n",
        "2.``criterion`` is a pre-defined function. It is used for calculating the loss value.\n",
        "3.``loss.backward`` here means to do back propagation based on the loss value and calculate thegradient value.\n",
        "4.``optimizer.step`` means to do gradient descent. \n",
        "\n",
        "More information about gradient descent https://towardsdatascience.com/gradient-descent-algorithm-a-deep-dive-cf04e8115f21"
      ]
    },
    {
      "cell_type": "markdown",
      "metadata": {
        "id": "2Zqqs5k8dRnO"
      },
      "source": [
        "## Test Function\n",
        "Next, we define the testing function. Testing just show how the performance of your model is, it does not upgrade any parameters of the model."
      ]
    },
    {
      "cell_type": "code",
      "execution_count": 51,
      "metadata": {
        "id": "WuHKHR9oeB_V"
      },
      "outputs": [],
      "source": [
        "def tester(net, criterion, testloader):\n",
        "    loss = 0\n",
        "    with torch.no_grad():\n",
        "        for data in testloader:\n",
        "            inputs, labels, data_index = data\n",
        "            outputs = net(inputs)\n",
        "            loss += criterion(outputs.cpu(), labels.unsqueeze(1).cpu())\n",
        "    return loss.item()"
      ]
    },
    {
      "cell_type": "markdown",
      "metadata": {
        "id": "umfXtyuD5qk3"
      },
      "source": [
        "# Optimizer\n",
        "Optimizer is the way for models to do gradient discent. It helps model to adjust its parameters. For starters in machine learning, we suggest using\n",
        "**Adam** as your Optimizer."
      ]
    },
    {
      "cell_type": "code",
      "execution_count": 52,
      "metadata": {
        "id": "tpFg-Air6zOm"
      },
      "outputs": [],
      "source": [
        "# Demo Code\n",
        "# lr =0.001\n",
        "# optimizer = optim.SGD(model.parameters(), lr=lr, momentum=0.9)"
      ]
    },
    {
      "cell_type": "markdown",
      "metadata": {
        "id": "4yWMgK0P6JVv"
      },
      "source": [
        "# Loss Function\n",
        "It can be also called as **loss function** or **cost function**. More specific detail please visit:\n",
        "* https://stats.stackexchange.com/questions/179026/objective-function-cost-function-loss-function-are-they-the-same-thing\n",
        "* https://medium.com/@gatorsquare/ml-gradient-descent-%E6%A2%AF%E5%BA%A6%E4%B8%8B%E9%99%8D%E6%B3%95-c664b5874e5c\n",
        "A loss function is a function that maps an event or values of one or more variables onto a realnumber intuitively representing some \"cost\" associated with the event, which measures thepenalty. And an optimization problem seeks to minimize a loss function."
      ]
    },
    {
      "cell_type": "code",
      "execution_count": 53,
      "metadata": {
        "id": "lS74VDuA6ubv"
      },
      "outputs": [],
      "source": [
        "# Demo Code\n",
        "#criterion = nn.CrossEntropyLoss()"
      ]
    },
    {
      "cell_type": "markdown",
      "metadata": {
        "id": "c8VLpMF37BY0"
      },
      "source": [
        "# All set!\n",
        "A few more steps and then we can start training!"
      ]
    },
    {
      "cell_type": "markdown",
      "metadata": {
        "id": "565GfonCNNTk"
      },
      "source": [
        "# Import Modules"
      ]
    },
    {
      "cell_type": "code",
      "execution_count": 54,
      "metadata": {
        "id": "tFuSdQsROJDJ"
      },
      "outputs": [],
      "source": [
        "import torch\n",
        "import torch.nn as nn\n",
        "import torch.optim as optim\n",
        "\n",
        "from torch.utils.data.dataloader import default_collate\n",
        "\n",
        "import os\n",
        "import math\n",
        "\n"
      ]
    },
    {
      "cell_type": "markdown",
      "metadata": {
        "id": "lSmWHpZ_72f9"
      },
      "source": [
        "## Get Device for Training\n",
        "We want to be able to train our model on a hardware accelerator like the GPU,\n",
        "if it is available. Let's check to see if\n",
        "[torch.cuda](https://pytorch.org/docs/stable/notes/cuda.html) is available, else we\n",
        "continue to use the GPU.\n",
        "\n"
      ]
    },
    {
      "cell_type": "code",
      "execution_count": 55,
      "metadata": {
        "id": "704KLUwr72f-",
        "colab": {
          "base_uri": "https://localhost:8080/"
        },
        "outputId": "2beff5ce-3fbc-4fa6-e375-3e887ca7401b"
      },
      "outputs": [
        {
          "output_type": "stream",
          "name": "stdout",
          "text": [
            "Using cuda device\n"
          ]
        }
      ],
      "source": [
        "device = \"cuda\" if torch.cuda.is_available() else \"cpu\"\n",
        "print(f\"Using {device} device\")"
      ]
    },
    {
      "cell_type": "markdown",
      "metadata": {
        "id": "FngTb1pG7WKt"
      },
      "source": [
        "# Read Data"
      ]
    },
    {
      "cell_type": "code",
      "execution_count": 56,
      "metadata": {
        "id": "9OwoYNQw7Vvn",
        "colab": {
          "base_uri": "https://localhost:8080/"
        },
        "outputId": "444cbf48-8763-43c4-fba8-2259207cbb91"
      },
      "outputs": [
        {
          "output_type": "stream",
          "name": "stdout",
          "text": [
            "Num of samples: 3724\n"
          ]
        }
      ],
      "source": [
        "data = readData(\"0050_history.csv\")\n",
        "print('Num of samples:', len(data))"
      ]
    },
    {
      "cell_type": "markdown",
      "metadata": {
        "id": "GVxzAUts9slb"
      },
      "source": [
        "# Preprocess"
      ]
    },
    {
      "cell_type": "code",
      "execution_count": 57,
      "metadata": {
        "id": "5VlHYPNX8Q6x"
      },
      "outputs": [],
      "source": [
        "prices = preprocess(data)\n",
        "# Divide trainset and test set\n",
        "train, test = train_test_split(prices, 0.8)\n",
        "# Set the N(look_back)=5 because from the five day stock, we are predicting the next day\n",
        "look_back = 5\n",
        "trainX, trainY = transform_dataset(train, look_back)\n",
        "testX, testY   = transform_dataset(test, look_back)\n",
        "# Get dataset\n",
        "trainset = Dataset(trainX, trainY, device)\n",
        "testset  = Dataset(testX, testY, device)\n",
        "# Get dataloader\n",
        "#改\n",
        "batch_size = 100\n",
        "trainloader = torch.utils.data.DataLoader(trainset, batch_size=batch_size, shuffle=True, num_workers=0) # num_workers should set 1 if put data on CUDA\n",
        "testloader  = torch.utils.data.DataLoader(testset, batch_size=batch_size, shuffle=False, num_workers=0)"
      ]
    },
    {
      "cell_type": "markdown",
      "metadata": {
        "id": "ungZ7Pzt96JG"
      },
      "source": [
        "# Model Initialize"
      ]
    },
    {
      "cell_type": "code",
      "execution_count": 58,
      "metadata": {
        "id": "LvxT4_Uz90Bj",
        "colab": {
          "base_uri": "https://localhost:8080/"
        },
        "outputId": "a24955e9-30ef-471f-9f7a-0c20a12d7741"
      },
      "outputs": [
        {
          "output_type": "execute_result",
          "data": {
            "text/plain": [
              "LSTMPredictor(\n",
              "  (rnn): LSTM(5, 32, num_layers=2, dropout=0.3, bidirectional=True)\n",
              "  (ly_a): Linear(in_features=64, out_features=16, bias=True)\n",
              "  (relu): ReLU()\n",
              "  (reg): Linear(in_features=16, out_features=1, bias=True)\n",
              ")"
            ]
          },
          "metadata": {},
          "execution_count": 58
        }
      ],
      "source": [
        "net = LSTMPredictor(look_back)\n",
        "net.to(device)"
      ]
    },
    {
      "cell_type": "markdown",
      "metadata": {
        "id": "kmtWM6li-AQT"
      },
      "source": [
        "# Loss Function"
      ]
    },
    {
      "cell_type": "code",
      "execution_count": 59,
      "metadata": {
        "id": "67dCbOxz99zx"
      },
      "outputs": [],
      "source": [
        "#改\n",
        "criterion = nn.MSELoss() # Feel free to use any other loss"
      ]
    },
    {
      "cell_type": "markdown",
      "metadata": {
        "id": "aol9u-Kn-WJy"
      },
      "source": [
        "I used Mean Square Error Loss function. You can tweak with other if you want.\n",
        "https://pytorch.org/docs/stable/nn.html#loss-functions\n",
        "\n",
        "Or, you can create your own loss function \n",
        "https://towardsdatascience.com/how-to-create-a-custom-loss-function-keras-3a89156ec69b\n"
      ]
    },
    {
      "cell_type": "markdown",
      "metadata": {
        "id": "dbKMukjw-14m"
      },
      "source": [
        "# Optimizer"
      ]
    },
    {
      "cell_type": "code",
      "execution_count": 60,
      "metadata": {
        "id": "Gj12NGdq-FEy"
      },
      "outputs": [],
      "source": [
        "#改\n",
        "optimizer = optim.Adam(net.parameters(), lr=0.001) # you can tweak the lr and see if it affects anything"
      ]
    },
    {
      "cell_type": "markdown",
      "metadata": {
        "id": "R92TxhjM_DcD"
      },
      "source": [
        "# Training"
      ]
    },
    {
      "cell_type": "markdown",
      "metadata": {
        "id": "CgOWQ62P_070"
      },
      "source": [
        "You can change the epoch here.\n",
        "But also make sure it doesn't overfit!"
      ]
    },
    {
      "cell_type": "code",
      "execution_count": 61,
      "metadata": {
        "id": "pMlDX-Ru_Czv",
        "colab": {
          "base_uri": "https://localhost:8080/",
          "height": 1000
        },
        "outputId": "70bd4f20-bd39-4edc-8807-284b0302e615"
      },
      "outputs": [
        {
          "output_type": "stream",
          "name": "stdout",
          "text": [
            "[1,    10] loss: 35.277\n",
            "[1,    20] loss: 35.659\n",
            "[1,    30] loss: 34.441\n",
            "\tTraining Loss: 7028.459858 \tValidation Loss: 2426.905098\n",
            "[2,    10] loss: 34.007\n",
            "[2,    20] loss: 32.444\n",
            "[2,    30] loss: 32.138\n",
            "\tTraining Loss: 6573.811445 \tValidation Loss: 2052.210856\n",
            "[3,    10] loss: 30.769\n",
            "[3,    20] loss: 29.486\n",
            "[3,    30] loss: 27.931\n",
            "\tTraining Loss: 5880.738784 \tValidation Loss: 1611.949760\n",
            "[4,    10] loss: 25.284\n",
            "[4,    20] loss: 25.655\n",
            "[4,    30] loss: 25.300\n",
            "\tTraining Loss: 5082.968967 \tValidation Loss: 1161.867484\n",
            "[5,    10] loss: 22.559\n",
            "[5,    20] loss: 20.725\n",
            "[5,    30] loss: 20.421\n",
            "\tTraining Loss: 4246.258695 \tValidation Loss: 744.497858\n",
            "[6,    10] loss: 18.252\n",
            "[6,    20] loss: 16.977\n",
            "[6,    30] loss: 15.977\n",
            "\tTraining Loss: 3419.934343 \tValidation Loss: 405.386535\n",
            "[7,    10] loss: 14.393\n",
            "[7,    20] loss: 13.681\n",
            "[7,    30] loss: 11.787\n",
            "\tTraining Loss: 2661.474698 \tValidation Loss: 178.654056\n",
            "[8,    10] loss: 10.900\n",
            "[8,    20] loss: 10.179\n",
            "[8,    30] loss: 9.079\n",
            "\tTraining Loss: 2012.757238 \tValidation Loss: 82.079851\n",
            "[9,    10] loss: 8.617\n",
            "[9,    20] loss: 7.243\n",
            "[9,    30] loss: 6.801\n",
            "\tTraining Loss: 1512.543294 \tValidation Loss: 107.113187\n",
            "[10,    10] loss: 6.244\n",
            "[10,    20] loss: 5.499\n",
            "[10,    30] loss: 5.664\n",
            "\tTraining Loss: 1158.678817 \tValidation Loss: 222.209584\n",
            "[11,    10] loss: 5.254\n",
            "[11,    20] loss: 4.577\n",
            "[11,    30] loss: 4.164\n",
            "\tTraining Loss: 934.972854 \tValidation Loss: 386.322230\n",
            "[12,    10] loss: 3.881\n",
            "[12,    20] loss: 4.261\n",
            "[12,    30] loss: 4.023\n",
            "\tTraining Loss: 808.543421 \tValidation Loss: 550.778033\n",
            "[13,    10] loss: 3.733\n",
            "[13,    20] loss: 3.725\n",
            "[13,    30] loss: 3.696\n",
            "\tTraining Loss: 746.289686 \tValidation Loss: 696.531565\n",
            "[14,    10] loss: 3.726\n",
            "[14,    20] loss: 3.564\n",
            "[14,    30] loss: 3.505\n",
            "\tTraining Loss: 719.404745 \tValidation Loss: 802.135680\n",
            "[15,    10] loss: 3.479\n",
            "[15,    20] loss: 3.439\n",
            "[15,    30] loss: 3.683\n",
            "\tTraining Loss: 705.566911 \tValidation Loss: 868.266780\n",
            "[16,    10] loss: 3.322\n",
            "[16,    20] loss: 3.648\n",
            "[16,    30] loss: 3.562\n",
            "\tTraining Loss: 703.889257 \tValidation Loss: 921.135540\n",
            "[17,    10] loss: 3.446\n",
            "[17,    20] loss: 3.398\n",
            "[17,    30] loss: 3.725\n",
            "\tTraining Loss: 704.332753 \tValidation Loss: 942.509943\n",
            "[18,    10] loss: 3.401\n",
            "[18,    20] loss: 3.534\n",
            "[18,    30] loss: 3.636\n",
            "\tTraining Loss: 703.953105 \tValidation Loss: 954.765604\n",
            "[19,    10] loss: 3.830\n",
            "[19,    20] loss: 3.428\n",
            "[19,    30] loss: 3.272\n",
            "\tTraining Loss: 703.606740 \tValidation Loss: 972.143982\n",
            "[20,    10] loss: 3.674\n",
            "[20,    20] loss: 3.408\n",
            "[20,    30] loss: 3.427\n",
            "\tTraining Loss: 701.265523 \tValidation Loss: 967.293606\n",
            "[21,    10] loss: 3.639\n",
            "[21,    20] loss: 3.328\n",
            "[21,    30] loss: 3.527\n",
            "\tTraining Loss: 701.556971 \tValidation Loss: 967.126262\n",
            "[22,    10] loss: 3.510\n",
            "[22,    20] loss: 3.386\n",
            "[22,    30] loss: 3.678\n",
            "\tTraining Loss: 703.248599 \tValidation Loss: 963.709264\n",
            "[23,    10] loss: 3.452\n",
            "[23,    20] loss: 3.512\n",
            "[23,    30] loss: 3.588\n",
            "\tTraining Loss: 703.268182 \tValidation Loss: 972.089089\n",
            "[24,    10] loss: 3.732\n",
            "[24,    20] loss: 3.597\n",
            "[24,    30] loss: 3.208\n",
            "\tTraining Loss: 702.743445 \tValidation Loss: 978.676103\n",
            "[25,    10] loss: 3.400\n",
            "[25,    20] loss: 3.665\n",
            "[25,    30] loss: 3.491\n",
            "\tTraining Loss: 704.598949 \tValidation Loss: 972.334235\n",
            "[26,    10] loss: 3.448\n",
            "[26,    20] loss: 3.569\n",
            "[26,    30] loss: 3.389\n",
            "\tTraining Loss: 694.726718 \tValidation Loss: 820.903217\n",
            "[27,    10] loss: 3.529\n",
            "[27,    20] loss: 2.987\n",
            "[27,    30] loss: 2.831\n",
            "\tTraining Loss: 624.157860 \tValidation Loss: 368.835824\n",
            "[28,    10] loss: 2.759\n",
            "[28,    20] loss: 2.295\n",
            "[28,    30] loss: 1.997\n",
            "\tTraining Loss: 469.548617 \tValidation Loss: 102.050629\n",
            "[29,    10] loss: 1.980\n",
            "[29,    20] loss: 1.837\n",
            "[29,    30] loss: 1.232\n",
            "\tTraining Loss: 337.864847 \tValidation Loss: 56.412099\n",
            "[30,    10] loss: 1.382\n",
            "[30,    20] loss: 1.215\n",
            "[30,    30] loss: 1.187\n",
            "\tTraining Loss: 251.471137 \tValidation Loss: 64.798251\n",
            "[31,    10] loss: 1.010\n",
            "[31,    20] loss: 0.921\n",
            "[31,    30] loss: 0.951\n",
            "\tTraining Loss: 191.876284 \tValidation Loss: 59.175621\n",
            "[32,    10] loss: 0.873\n",
            "[32,    20] loss: 0.747\n",
            "[32,    30] loss: 0.682\n",
            "\tTraining Loss: 153.704981 \tValidation Loss: 57.646592\n",
            "[33,    10] loss: 0.671\n",
            "[33,    20] loss: 0.625\n",
            "[33,    30] loss: 0.537\n",
            "\tTraining Loss: 122.685504 \tValidation Loss: 40.634921\n",
            "[34,    10] loss: 0.554\n",
            "[34,    20] loss: 0.459\n",
            "[34,    30] loss: 0.441\n",
            "\tTraining Loss: 97.165648 \tValidation Loss: 35.873590\n",
            "[35,    10] loss: 0.424\n",
            "[35,    20] loss: 0.389\n",
            "[35,    30] loss: 0.408\n",
            "\tTraining Loss: 81.463017 \tValidation Loss: 44.898791\n",
            "[36,    10] loss: 0.339\n",
            "[36,    20] loss: 0.353\n",
            "[36,    30] loss: 0.331\n",
            "\tTraining Loss: 68.245980 \tValidation Loss: 63.368867\n",
            "[37,    10] loss: 0.290\n",
            "[37,    20] loss: 0.307\n",
            "[37,    30] loss: 0.247\n",
            "\tTraining Loss: 56.344516 \tValidation Loss: 55.154318\n",
            "[38,    10] loss: 0.298\n",
            "[38,    20] loss: 0.230\n",
            "[38,    30] loss: 0.210\n",
            "\tTraining Loss: 49.108993 \tValidation Loss: 65.972663\n",
            "[39,    10] loss: 0.209\n",
            "[39,    20] loss: 0.231\n",
            "[39,    30] loss: 0.214\n",
            "\tTraining Loss: 43.583973 \tValidation Loss: 46.833717\n",
            "[40,    10] loss: 0.191\n",
            "[40,    20] loss: 0.174\n",
            "[40,    30] loss: 0.180\n",
            "\tTraining Loss: 36.266185 \tValidation Loss: 62.517220\n",
            "[41,    10] loss: 0.191\n",
            "[41,    20] loss: 0.168\n",
            "[41,    30] loss: 0.184\n",
            "\tTraining Loss: 36.005870 \tValidation Loss: 55.610167\n",
            "[42,    10] loss: 0.153\n",
            "[42,    20] loss: 0.155\n",
            "[42,    30] loss: 0.145\n",
            "\tTraining Loss: 30.275229 \tValidation Loss: 38.738103\n",
            "[43,    10] loss: 0.146\n",
            "[43,    20] loss: 0.133\n",
            "[43,    30] loss: 0.135\n",
            "\tTraining Loss: 27.594792 \tValidation Loss: 40.546890\n",
            "[44,    10] loss: 0.133\n",
            "[44,    20] loss: 0.111\n",
            "[44,    30] loss: 0.128\n",
            "\tTraining Loss: 24.788859 \tValidation Loss: 43.939969\n",
            "[45,    10] loss: 0.110\n",
            "[45,    20] loss: 0.123\n",
            "[45,    30] loss: 0.113\n",
            "\tTraining Loss: 23.083291 \tValidation Loss: 43.899687\n",
            "[46,    10] loss: 0.102\n",
            "[46,    20] loss: 0.120\n",
            "[46,    30] loss: 0.111\n",
            "\tTraining Loss: 22.272223 \tValidation Loss: 44.336542\n",
            "[47,    10] loss: 0.110\n",
            "[47,    20] loss: 0.114\n",
            "[47,    30] loss: 0.119\n",
            "\tTraining Loss: 22.889706 \tValidation Loss: 47.421932\n",
            "[48,    10] loss: 0.103\n",
            "[48,    20] loss: 0.107\n",
            "[48,    30] loss: 0.110\n",
            "\tTraining Loss: 21.290424 \tValidation Loss: 45.982390\n",
            "[49,    10] loss: 0.096\n",
            "[49,    20] loss: 0.095\n",
            "[49,    30] loss: 0.093\n",
            "\tTraining Loss: 18.971269 \tValidation Loss: 42.441653\n",
            "[50,    10] loss: 0.086\n",
            "[50,    20] loss: 0.124\n",
            "[50,    30] loss: 0.103\n",
            "\tTraining Loss: 20.857930 \tValidation Loss: 43.755211\n",
            "Finished Training\n"
          ]
        },
        {
          "output_type": "display_data",
          "data": {
            "text/plain": [
              "<Figure size 432x288 with 1 Axes>"
            ],
            "image/png": "[encoded data removed]"
          },
          "metadata": {
            "needs_background": "light"
          }
        }
      ],
      "source": [
        "## Training\n",
        "checkpoint = \"./checkpoint/save.pt\"\n",
        "if not os.path.isfile(checkpoint):\n",
        "  os.makedirs(\"./checkpoint\")\n",
        "  #改\n",
        "  trainer(net, criterion, optimizer, trainloader, testloader, epoch_n=50, path=checkpoint)\n",
        "else:\n",
        "  net.load_state_dict(torch.load(checkpoint))"
      ]
    },
    {
      "cell_type": "markdown",
      "metadata": {
        "id": "e7t_gO-3AY2i"
      },
      "source": [
        "# Test the Data\n",
        "Now let's compare with the test data"
      ]
    },
    {
      "cell_type": "code",
      "execution_count": 62,
      "metadata": {
        "id": "t_DRUA3l_tdd",
        "colab": {
          "base_uri": "https://localhost:8080/"
        },
        "outputId": "f9d02199-b061-42cf-ebe0-0d6a71d253f7"
      },
      "outputs": [
        {
          "output_type": "stream",
          "name": "stdout",
          "text": [
            "Test Result:  54.86602020263672\n"
          ]
        }
      ],
      "source": [
        "test = tester(net, criterion, testloader)\n",
        "# Show the difference between predict and groundtruth (loss)\n",
        "print('Test Result: ', test)"
      ]
    },
    {
      "cell_type": "markdown",
      "metadata": {
        "id": "cKN0jGueAnhN"
      },
      "source": [
        "# Predict\n",
        "Our model is now ready! \n",
        "\n",
        "Let's try with some sample data!\n",
        "Suppose the closing data, \n",
        "* Monday = 126\n",
        "* Tuesday = 124\n",
        "* Wednesday = 124\n",
        "* Thursday = 122.5\n",
        "* Friday = 121\n",
        "\n",
        "So, the model is predicting the next day given the input of 5 day closing values"
      ]
    },
    {
      "cell_type": "code",
      "execution_count": 63,
      "metadata": {
        "id": "70ehxcuAAiZD",
        "colab": {
          "base_uri": "https://localhost:8080/"
        },
        "outputId": "b22e23ff-9907-4413-bd75-8466b5794c6d"
      },
      "outputs": [
        {
          "output_type": "stream",
          "name": "stdout",
          "text": [
            "Predicted Result 93.65006256103516\n"
          ]
        }
      ],
      "source": [
        "predict = net.predict(torch.tensor([[126, 124, 124, 122.5, 121]], dtype=torch.float32).to(device))\n",
        "print('Predicted Result', predict)"
      ]
    },
    {
      "cell_type": "markdown",
      "metadata": {
        "id": "36tyoplUCIov"
      },
      "source": [
        "What can you do to improve the performance?\n",
        "\n",
        "* Increase the epoch\n",
        "* You can use multiple input data (Maybe closing data and volume has a relation!)\n",
        "* Try out different loss function\n",
        "* Evaluate the test data and training data and see the accuracy \n",
        "* Experiment with the code"
      ]
    },
    {
      "cell_type": "markdown",
      "metadata": {
        "id": "4YlKIBPMGmYO"
      },
      "source": [
        "# Report Guidelines\n",
        "In the field of Computer Science, most of the latest techniques are proposed at conferences instead of journal, like NIPS, ACL, CVPR, AAAI and so on.\n",
        "\n",
        "We will follow IEEE guidelines to write paper report.\n",
        "A proper report will contain-\n",
        " * Abstract\n",
        " * Introduction\n",
        " * Methods\n",
        " * Experiment\n",
        " * Results\n",
        " * Conclusion \n",
        " * References\n",
        " For more details: https://www.ieee.org/conferences/publishing/templates.html\n",
        " We recommend to use overleaf latex Editor."
      ]
    },
    {
      "cell_type": "markdown",
      "metadata": {
        "id": "JTSKbgXQgVAS"
      },
      "source": [
        "# Grading\n",
        " Grading is based on your report.\n",
        "Below are the grading policy for this homework:\n",
        "* The report should be in English.\n",
        "* Introduction & Conclusion (30%)\n",
        "* Methods (30%)\n",
        "* Experiment & Results (30%)\n",
        "* Abstract & References (10%)"
      ]
    },
    {
      "cell_type": "markdown",
      "metadata": {
        "id": "jtH-h71dHgzS"
      },
      "source": [
        "# Final Project\n",
        "We suggest selecting one interesting topic as early as possible. Most of the students here are undergraduate or new to coding, it would be the best time for you to develop your knowledge and the ability to implement code by reading research papers. \n"
      ]
    },
    {
      "cell_type": "markdown",
      "metadata": {
        "id": "zWRSXmOy1aLM"
      },
      "source": [
        "# Papers\n",
        "You can find papers here:\n",
        "* https://arxiv.org\n",
        "* Google Scholar\n",
        "* Conference Websites"
      ]
    },
    {
      "cell_type": "code",
      "execution_count": 63,
      "metadata": {
        "id": "WVvzCvI61z81"
      },
      "outputs": [],
      "source": []
    }
  ],
  "metadata": {
    "accelerator": "GPU",
    "colab": {
      "provenance": []
    },
    "gpuClass": "standard",
    "kernelspec": {
      "display_name": "Python 3",
      "language": "python",
      "name": "python3"
    },
    "language_info": {
      "codemirror_mode": {
        "name": "ipython",
        "version": 3
      },
      "file_extension": ".py",
      "mimetype": "text/x-python",
      "name": "python",
      "nbconvert_exporter": "python",
      "pygments_lexer": "ipython3",
      "version": "3.10.9"
    }
  },
  "nbformat": 4,
  "nbformat_minor": 0
}
