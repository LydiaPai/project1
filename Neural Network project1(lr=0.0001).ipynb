{
  "cells": [
    {
      "cell_type": "markdown",
      "metadata": {
        "id": "jQfp7hIf8UjE"
      },
      "source": [
        "# Install Environment\n",
        "\n",
        "*   For ease of use, we recommend using Google Colab\n",
        "*   You can also use Jupyter Notebook locally (Desktop,laptop,Server)\n",
        "*   You can check this link for further [reference](https://towardsdatascience.com/how-to-set-up-anaconda-and-jupyter-notebook-the-right-way-de3b7623ea4a)\n",
        "* We recommend to install [Anaconda](https://docs.anaconda.com/anaconda/install/index.html) or [Miniconda](https://docs.conda.io/en/latest/miniconda.html) first\n",
        "* Lastly prepare GPU for faster processing\n",
        "\n",
        "Most of the new research papers use Python3 as their programming language. \n",
        "However, if you use Colab as your training environment, Google will build that for you.\n",
        "Also, you can activate GPU by changing the Runtime in Google Colab.\n",
        "\n"
      ]
    },
    {
      "cell_type": "markdown",
      "metadata": {
        "id": "Kak0E7knFS8a"
      },
      "source": [
        "# Install libraries\n",
        "## First install Pytorch\n",
        "Nowadays, there are many kinds of training framework in the world. Some of which support by tech companies or research centers.\n",
        "The most common are [PyTorch](https://pytorch.org/) and [Tensorflow](https://www.tensorflow.org).\n",
        "\n",
        "Here, we will use PyTorch as our framework to build our training scripts. Because it is easy-to-use and being popular for researchers, most of the papers using pytorch as their first selection.\n",
        "But if in industrial enviroment, TensorFlow would be the better selection for your product.\n"
      ]
    },
    {
      "cell_type": "markdown",
      "metadata": {
        "id": "CpBsUKCaNHHU"
      },
      "source": [
        "We will uninstall Tensorflow first"
      ]
    },
    {
      "cell_type": "code",
      "execution_count": 1,
      "metadata": {
        "colab": {
          "base_uri": "https://localhost:8080/"
        },
        "id": "gwTm1dl672f4",
        "outputId": "0c8319f6-93e7-4847-a3b0-166e57bc3be2"
      },
      "outputs": [
        {
          "output_type": "stream",
          "name": "stdout",
          "text": [
            "Found existing installation: tensorflow 2.11.0\n",
            "Uninstalling tensorflow-2.11.0:\n",
            "  Successfully uninstalled tensorflow-2.11.0\n"
          ]
        }
      ],
      "source": [
        "# We won't need TensorFlow here\n",
        "!pip uninstall -y tensorflow"
      ]
    },
    {
      "cell_type": "code",
      "execution_count": 2,
      "metadata": {
        "colab": {
          "base_uri": "https://localhost:8080/"
        },
        "id": "t05UKUpbNQ9A",
        "outputId": "0d2b394d-d261-4f4f-b762-c085faeb5f17"
      },
      "outputs": [
        {
          "output_type": "stream",
          "name": "stdout",
          "text": [
            "Looking in indexes: https://pypi.org/simple, https://us-python.pkg.dev/colab-wheels/public/simple/\n",
            "Requirement already satisfied: torch in /usr/local/lib/python3.9/dist-packages (1.13.1+cu116)\n",
            "Requirement already satisfied: torchvision in /usr/local/lib/python3.9/dist-packages (0.14.1+cu116)\n",
            "Requirement already satisfied: typing-extensions in /usr/local/lib/python3.9/dist-packages (from torch) (4.5.0)\n",
            "Requirement already satisfied: numpy in /usr/local/lib/python3.9/dist-packages (from torchvision) (1.22.4)\n",
            "Requirement already satisfied: requests in /usr/local/lib/python3.9/dist-packages (from torchvision) (2.27.1)\n",
            "Requirement already satisfied: pillow!=8.3.*,>=5.3.0 in /usr/local/lib/python3.9/dist-packages (from torchvision) (8.4.0)\n",
            "Requirement already satisfied: urllib3<1.27,>=1.21.1 in /usr/local/lib/python3.9/dist-packages (from requests->torchvision) (1.26.15)\n",
            "Requirement already satisfied: charset-normalizer~=2.0.0 in /usr/local/lib/python3.9/dist-packages (from requests->torchvision) (2.0.12)\n",
            "Requirement already satisfied: idna<4,>=2.5 in /usr/local/lib/python3.9/dist-packages (from requests->torchvision) (3.4)\n",
            "Requirement already satisfied: certifi>=2017.4.17 in /usr/local/lib/python3.9/dist-packages (from requests->torchvision) (2022.12.7)\n"
          ]
        }
      ],
      "source": [
        "# install PyTorch\n",
        "!pip install torch torchvision"
      ]
    },
    {
      "cell_type": "markdown",
      "metadata": {
        "id": "N7Gm1E67cj5Q"
      },
      "source": [
        "# Utility Functions\n",
        "Basic utility functions like saving the model to reading the data.\n",
        "As you can see we use **pickling** to save and load the checkpoints.\n",
        "You can read more about this here: https://snyk.io/blog/guide-to-python-pickle/"
      ]
    },
    {
      "cell_type": "code",
      "execution_count": 3,
      "metadata": {
        "id": "k6HC_VEzcqu7"
      },
      "outputs": [],
      "source": [
        "import pickle\n",
        "import numpy as np\n",
        "import torch\n",
        "\n",
        "\n",
        "def pickleStore(savethings, filename):\n",
        "  # Store the checkpoint\n",
        "    dbfile = open( filename , 'wb' )\n",
        "    pickle.dump( savethings , dbfile )\n",
        "    dbfile.close()\n",
        "    return\n",
        "\n",
        "\n",
        "def pikleOpen(filename):\n",
        "  # Open the model\n",
        "    file_to_read = open( filename , \"rb\" )\n",
        "    p = pickle.load( file_to_read )\n",
        "    return p\n",
        "\n",
        "\n",
        "def readData(f):\n",
        "  # Read Data from the system\n",
        "    return np.genfromtxt(f, delimiter=',', dtype=str)[1:]\n",
        "\n",
        "\n",
        "def saveModel(net, path):\n",
        "  # Save the model\n",
        "    torch.save(net.state_dict(), path)"
      ]
    },
    {
      "cell_type": "markdown",
      "metadata": {
        "id": "lF9CFW-ZQoJg"
      },
      "source": [
        "# Training Framework\n",
        "In order to start training, we have to follow these steps:\n",
        "\n",
        "1.  Dataset\n",
        "2.  Pre-processing\n",
        "3.  Dataloader\n",
        "4.  Model\n",
        "5.  Training Part and Testing Part\n",
        "6.  Optimizer\n",
        "7.  Loss Function\n"
      ]
    },
    {
      "cell_type": "markdown",
      "metadata": {
        "id": "5MQKbSPrO9oL"
      },
      "source": [
        "## Dataset\n",
        "We need to format our data to meet the needs from models. The advantage is we load the data by batch instead of loading all of the dataset into the memory. Here we use the pre-build dataset component.\n",
        "You also can build your own Dataset object by yourself, and it should follow these methods:\n",
        "* Declaring it as an extended Dataset Object\n",
        "* Defining ``__init__``, ``__len__``, ``__getitem__`` functions"
      ]
    },
    {
      "cell_type": "code",
      "execution_count": 4,
      "metadata": {
        "id": "xBSFkTivO75j"
      },
      "outputs": [],
      "source": [
        "import torch\n",
        "\n",
        "\n",
        "class Dataset(torch.utils.data.Dataset):\n",
        "    'Characterizes a dataset for PyTorch'\n",
        "    def __init__(self, data, labels, device='gpu'):\n",
        "        'Initialization'\n",
        "        self.data = data.to(device)\n",
        "        self.labels = labels\n",
        "\n",
        "    def __len__(self):\n",
        "        'Denotes the total number of samples'\n",
        "        return len(self.labels)\n",
        "\n",
        "    def __getitem__(self, index):\n",
        "        'Generates one sample of data'\n",
        "        # Load data and get label\n",
        "        X = self.data[index]\n",
        "        y = self.labels[index]\n",
        "        return X, y, index"
      ]
    },
    {
      "cell_type": "markdown",
      "metadata": {
        "id": "zuw1SAdZTGbn"
      },
      "source": [
        "# Pre-processing\n",
        "We need to pre-process the data before training. Preprocessing helps us to segment more data and clear out anomalies(異常) manually if present.\n",
        "It also helps us in understanding the data and thus it will eventually help in better performance of the model."
      ]
    },
    {
      "cell_type": "code",
      "execution_count": 5,
      "metadata": {
        "id": "U8KJx8OPTrla"
      },
      "outputs": [],
      "source": [
        "import numpy as np\n",
        "import torch\n",
        "\n",
        "\n",
        "def preprocess(data, flip=True):\n",
        "    date   = data[:, 0]\n",
        "    open   = data[:, 1]\n",
        "    high   = data[:, 2]\n",
        "    low    = data[:, 3]\n",
        "    close  = data[:, 4]\n",
        "    volume = data[:, 5]\n",
        "    #array([105., 112., 110., 118., 120.])\n",
        "    prices = np.array([close for date, open, high, low, close, volume in data]).astype(np.float64)\n",
        "    #如果flip為真就使用NumPy的flip()函数将prices数组反转。这个操作可以将数据的时间顺序倒转，用于一些需要倒叙处理数据的模型。\n",
        "    if flip:\n",
        "        prices = np.flip(prices)\n",
        "    #print(prices)\n",
        "    return prices\n",
        "\n",
        "\n",
        "def train_test_split(data, percentage=0.8):\n",
        "    train_size  = int(len(data) * percentage)\n",
        "    train, test = data[:train_size], data[train_size:]\n",
        "    return train, test\n",
        "\n",
        "# 改\n",
        "def transform_dataset(dataset, look_back=20):\n",
        "    # N days as training sample\n",
        "    dataX = [dataset[i:(i + look_back)]\n",
        "            for i in range(len(dataset)-look_back-1)]\n",
        "    # 1 day as groundtruth\n",
        "    dataY = [dataset[i + look_back]\n",
        "            for i in range(len(dataset)-look_back-1)]\n",
        "    return torch.tensor(np.array(dataX), dtype=torch.float32), torch.tensor(np.array(dataY), dtype=torch.float32)\n"
      ]
    },
    {
      "cell_type": "markdown",
      "metadata": {
        "id": "seNtUE_pRboS"
      },
      "source": [
        "# DataLoader\n",
        "DataLoader provides data to trainer each batch. It fetches the data and indices from dataSet object and combine them as the output.More about parameters:\n",
        "https://pytorch.org/tutorials/beginner/basics/data_tutorial.html.\n",
        "Fortunately, PyTorch has built in DataLoader function. But if you want to learn more, hit that link above.\n",
        "One more thing,DO NOT use test data in training.Train data and test data should be mutual exclusive.**BE CAREFUL ABOUT THIS.**\n"
      ]
    },
    {
      "cell_type": "code",
      "execution_count": 6,
      "metadata": {
        "id": "bCNCwYtPUhMA"
      },
      "outputs": [],
      "source": [
        "# Demo Code\n",
        "#from torch.utils.data import DataLoader"
      ]
    },
    {
      "cell_type": "markdown",
      "metadata": {
        "id": "HM02SQB5VcYo"
      },
      "source": [
        "# Model\n",
        "Model is the algorithm of how to map input to label. And it has three methods we need to define: ``__init__``, ``predict`` and ``forward``. \n",
        "\n",
        "**DO NOT** declare your forward layer inside forward function, cause in each epoch we need to update the parameters of each layers inside the model.\n",
        "If training with GPU, **DO NOT** forget to assign the GPU device for your model.\n",
        "You can see that instead of RNN I have used LSTM.- You can try different methods and experiment.\n",
        "\n",
        "For more details:\n",
        "* https://medium.com/analytics-vidhya/rnn-vs-gru-vs-lstm-863b0b7b1573\n",
        "* https://ai.stackexchange.com/questions/18198/what-is-the-difference-between-lstm-and-rnn\n",
        "* https://pytorch.org/docs/stable/generated/torch.nn.RNN.html\n",
        "* https://pytorch.org/docs/stable/generated/torch.nn.Linear.html"
      ]
    },
    {
      "cell_type": "code",
      "execution_count": 7,
      "metadata": {
        "id": "Zc2NrxD1V6Bo"
      },
      "outputs": [],
      "source": [
        "import torch.nn as nn\n",
        "import torch\n",
        "\n",
        "\n",
        "class LSTMPredictor(nn.Module):\n",
        "#改\n",
        "    def __init__(self, look_back, num_layers=2, dropout=0.3, bidirectional=True):\n",
        "        #首先调用父类 nn.Module 的构造函数，初始化模型的基本属性。\n",
        "        super(LSTMPredictor, self).__init__()\n",
        "\n",
        "        # Nerual Layers LSTM - Long Short Term Memory\n",
        "        #定义 LSTM 层，输入维度为 look_back，输出维度为 32。这里 num_layers=2 表示 LSTM 层有两层，dropout=0.3 表示在训练时对 LSTM 输出进行 dropout，bidirectional=True 表示使用双向 LSTM。\n",
        "        self.rnn   = nn.LSTM(look_back, 32, num_layers, dropout=dropout, bidirectional=True)\n",
        "        #定义一个全连接层，输入维度为 32*(2 if bidirectional else 1)，输出维度为 16。这里 2 if bidirectional else 1 的意思是如果使用双向 LSTM，输入维度需要乘以 2。\n",
        "        self.ly_a  = nn.Linear(32*(2 if bidirectional else 1), 16)\n",
        "        # self.ly_a  = nn.Linear(look_back, 16)\n",
        "        #relu 激活函數\n",
        "        self.relu  = nn.ReLU()\n",
        "        self.reg   = nn.Linear(16, 1)\n",
        "\n",
        "    def predict(self, input):\n",
        "        with torch.no_grad():\n",
        "            return self.forward(input).item()\n",
        "    #forward 函數是nn.Module類中的一個方法\n",
        "    def forward(self, input):\n",
        "        r_out, (h_n, h_c) = self.rnn(input.unsqueeze(1), None)\n",
        "        # print(r_out.shape)\n",
        "        # input()\n",
        "        logits = self.reg(self.relu(self.ly_a(r_out.squeeze(1))))\n",
        "        # logits = self.reg(self.relu(self.ly_a(input)))\n",
        "\n",
        "        return logits"
      ]
    },
    {
      "cell_type": "markdown",
      "metadata": {
        "id": "RyTEMBRgbRNA"
      },
      "source": [
        "# Training and Testing part\n",
        "We finally define the Dataset, DataLoader and Model. But there are still some more things that need to be done. We need to input the data to model, get the predicted output, calculate the criterion and update the parameters of the model."
      ]
    },
    {
      "cell_type": "markdown",
      "metadata": {
        "id": "3IBfVqwgdeIt"
      },
      "source": [
        "## Training Function\n",
        "First is the training part. Training map the relationship between input and label, also update the parameters at the stage.\n",
        "**DO NOT** forget to move your data to **GPU**, model and data should both at the same place.\n",
        "One more thing, we suggest writing the checkpoint if your experiment taking too long time."
      ]
    },
    {
      "cell_type": "code",
      "execution_count": 8,
      "metadata": {
        "id": "x2aZelKYcL-_"
      },
      "outputs": [],
      "source": [
        "import numpy as np\n",
        "import torch\n",
        "import matplotlib.pyplot as plt\n",
        "import sys\n",
        "# insert at 1, 0 is the script path (or '' in REPL)\n",
        "sys.path.insert(1, '../')\n",
        "\n",
        "\n",
        "\n",
        "def trainer(net, criterion, optimizer, trainloader, devloader, epoch_n=100, path=\"./checkpoint/save.pt\"):\n",
        "    train_losses, valid_losses = [], []\n",
        "    for epoch in range(epoch_n): # loop over the dataset multiple times\n",
        "        net.train()\n",
        "        running_loss = 0.0\n",
        "        train_loss = 0.0\n",
        "        valid_loss = 0.0\n",
        "        #对于每个训练样本，使用enumerate()函数获得其索引和数据。\n",
        "        for i, data in enumerate(trainloader, 0):\n",
        "            # get the iputs; data is a list of [inputs, labels]\n",
        "            inputs, labels, data_index = data\n",
        "            # zero the parameter gradients\n",
        "            optimizer.zero_grad()\n",
        "            # forward + backward + optimize\n",
        "            outputs = net(inputs)\n",
        "            loss = criterion(outputs.cpu(), labels.unsqueeze(1).cpu())\n",
        "            train_loss += loss.item()*inputs.shape[0]\n",
        "            loss.backward()\n",
        "            optimizer.step()\n",
        "\n",
        "            # print statistics\n",
        "            running_loss += loss.item()\n",
        "            if i % 10 == 9:    # print every 2000 mini-batches\n",
        "                print('[%d, %5d] loss: %.3f' %(epoch + 1, i + 1, running_loss / 2000))\n",
        "                running_loss = 0.0\n",
        "\n",
        "        ######################    \n",
        "        # validate the model #\n",
        "        ######################\n",
        "        net.eval()\n",
        "        for i, data in enumerate(devloader, 0):\n",
        "            # move tensors to GPU if CUDA is available\n",
        "            inputs, labels, data_index = data\n",
        "            # forward pass: compute predicted outputs by passing inputs to the model\n",
        "            outputs = net(inputs)\n",
        "            # calculate the batch loss\n",
        "            loss = criterion(outputs.cpu(), labels.cpu())\n",
        "            # update average validation loss \n",
        "            valid_loss += loss.item()*inputs.shape[0]\n",
        "        \n",
        "        # calculate average losses\n",
        "        train_loss = train_loss/len(trainloader.dataset)\n",
        "        valid_loss = valid_loss/len(devloader.dataset)\n",
        "    \n",
        "        # print training/validation statistics \n",
        "        print('\\tTraining Loss: {:.6f} \\tValidation Loss: {:.6f}'.format(train_loss, valid_loss))\n",
        "        train_losses.append(train_loss)\n",
        "        valid_losses.append(valid_loss)\n",
        "    print('Finished Training')\n",
        "    plt.plot(range(1, epoch_n+1), train_losses, label='Training Loss')\n",
        "    plt.plot(range(1, epoch_n+1), valid_losses, label='Validation Loss')\n",
        "    plt.xlabel('Epoch')\n",
        "    plt.ylabel('Loss')\n",
        "    plt.legend()\n",
        "    plt.show()\n",
        "    ## Save model\n",
        "    saveModel(net, path)"
      ]
    },
    {
      "cell_type": "markdown",
      "metadata": {
        "id": "6Jqonn-Ueddc"
      },
      "source": [
        "Here,\n",
        "1. ``optimizer.zero_grad`` means to set the gradient to zero. In each batch, the loss value isaccumulated from the samples' loss value.\n",
        "2.``criterion`` is a pre-defined function. It is used for calculating the loss value.\n",
        "3.``loss.backward`` here means to do back propagation based on the loss value and calculate thegradient value.\n",
        "4.``optimizer.step`` means to do gradient descent. \n",
        "\n",
        "More information about gradient descent https://towardsdatascience.com/gradient-descent-algorithm-a-deep-dive-cf04e8115f21"
      ]
    },
    {
      "cell_type": "markdown",
      "metadata": {
        "id": "2Zqqs5k8dRnO"
      },
      "source": [
        "## Test Function\n",
        "Next, we define the testing function. Testing just show how the performance of your model is, it does not upgrade any parameters of the model."
      ]
    },
    {
      "cell_type": "code",
      "execution_count": 9,
      "metadata": {
        "id": "WuHKHR9oeB_V"
      },
      "outputs": [],
      "source": [
        "def tester(net, criterion, testloader):\n",
        "    loss = 0\n",
        "    with torch.no_grad():\n",
        "        for data in testloader:\n",
        "            inputs, labels, data_index = data\n",
        "            outputs = net(inputs)\n",
        "            loss += criterion(outputs.cpu(), labels.unsqueeze(1).cpu())\n",
        "    return loss.item()"
      ]
    },
    {
      "cell_type": "markdown",
      "metadata": {
        "id": "umfXtyuD5qk3"
      },
      "source": [
        "# Optimizer\n",
        "Optimizer is the way for models to do gradient discent. It helps model to adjust its parameters. For starters in machine learning, we suggest using\n",
        "**Adam** as your Optimizer."
      ]
    },
    {
      "cell_type": "code",
      "execution_count": 10,
      "metadata": {
        "id": "tpFg-Air6zOm"
      },
      "outputs": [],
      "source": [
        "# Demo Code\n",
        "# lr =0.001\n",
        "# optimizer = optim.SGD(model.parameters(), lr=lr, momentum=0.9)"
      ]
    },
    {
      "cell_type": "markdown",
      "metadata": {
        "id": "4yWMgK0P6JVv"
      },
      "source": [
        "# Loss Function\n",
        "It can be also called as **loss function** or **cost function**. More specific detail please visit:\n",
        "* https://stats.stackexchange.com/questions/179026/objective-function-cost-function-loss-function-are-they-the-same-thing\n",
        "* https://medium.com/@gatorsquare/ml-gradient-descent-%E6%A2%AF%E5%BA%A6%E4%B8%8B%E9%99%8D%E6%B3%95-c664b5874e5c\n",
        "A loss function is a function that maps an event or values of one or more variables onto a realnumber intuitively representing some \"cost\" associated with the event, which measures thepenalty. And an optimization problem seeks to minimize a loss function."
      ]
    },
    {
      "cell_type": "code",
      "execution_count": 11,
      "metadata": {
        "id": "lS74VDuA6ubv"
      },
      "outputs": [],
      "source": [
        "# Demo Code\n",
        "#criterion = nn.CrossEntropyLoss()"
      ]
    },
    {
      "cell_type": "markdown",
      "metadata": {
        "id": "c8VLpMF37BY0"
      },
      "source": [
        "# All set!\n",
        "A few more steps and then we can start training!"
      ]
    },
    {
      "cell_type": "markdown",
      "metadata": {
        "id": "565GfonCNNTk"
      },
      "source": [
        "# Import Modules"
      ]
    },
    {
      "cell_type": "code",
      "execution_count": 12,
      "metadata": {
        "id": "tFuSdQsROJDJ"
      },
      "outputs": [],
      "source": [
        "import torch\n",
        "import torch.nn as nn\n",
        "import torch.optim as optim\n",
        "\n",
        "from torch.utils.data.dataloader import default_collate\n",
        "\n",
        "import os\n",
        "import math\n",
        "\n"
      ]
    },
    {
      "cell_type": "markdown",
      "metadata": {
        "id": "lSmWHpZ_72f9"
      },
      "source": [
        "## Get Device for Training\n",
        "We want to be able to train our model on a hardware accelerator like the GPU,\n",
        "if it is available. Let's check to see if\n",
        "[torch.cuda](https://pytorch.org/docs/stable/notes/cuda.html) is available, else we\n",
        "continue to use the GPU.\n",
        "\n"
      ]
    },
    {
      "cell_type": "code",
      "execution_count": 13,
      "metadata": {
        "id": "704KLUwr72f-",
        "colab": {
          "base_uri": "https://localhost:8080/"
        },
        "outputId": "a1b91599-b765-41fe-af10-4ad181c9ea44"
      },
      "outputs": [
        {
          "output_type": "stream",
          "name": "stdout",
          "text": [
            "Using cuda device\n"
          ]
        }
      ],
      "source": [
        "device = \"cuda\" if torch.cuda.is_available() else \"cpu\"\n",
        "print(f\"Using {device} device\")"
      ]
    },
    {
      "cell_type": "markdown",
      "metadata": {
        "id": "FngTb1pG7WKt"
      },
      "source": [
        "# Read Data"
      ]
    },
    {
      "cell_type": "code",
      "execution_count": 15,
      "metadata": {
        "id": "9OwoYNQw7Vvn",
        "colab": {
          "base_uri": "https://localhost:8080/"
        },
        "outputId": "605f21b2-c5c2-4303-8ba6-b72efa903490"
      },
      "outputs": [
        {
          "output_type": "stream",
          "name": "stdout",
          "text": [
            "Num of samples: 3724\n"
          ]
        }
      ],
      "source": [
        "data = readData(\"0050_history.csv\")\n",
        "print('Num of samples:', len(data))"
      ]
    },
    {
      "cell_type": "markdown",
      "metadata": {
        "id": "GVxzAUts9slb"
      },
      "source": [
        "# Preprocess"
      ]
    },
    {
      "cell_type": "code",
      "execution_count": 16,
      "metadata": {
        "id": "5VlHYPNX8Q6x"
      },
      "outputs": [],
      "source": [
        "prices = preprocess(data)\n",
        "# Divide trainset and test set\n",
        "train, test = train_test_split(prices, 0.8)\n",
        "# Set the N(look_back)=5 because from the five day stock, we are predicting the next day\n",
        "look_back = 5\n",
        "trainX, trainY = transform_dataset(train, look_back)\n",
        "testX, testY   = transform_dataset(test, look_back)\n",
        "# Get dataset\n",
        "trainset = Dataset(trainX, trainY, device)\n",
        "testset  = Dataset(testX, testY, device)\n",
        "# Get dataloader\n",
        "#改\n",
        "batch_size = 100\n",
        "trainloader = torch.utils.data.DataLoader(trainset, batch_size=batch_size, shuffle=True, num_workers=0) # num_workers should set 1 if put data on CUDA\n",
        "testloader  = torch.utils.data.DataLoader(testset, batch_size=batch_size, shuffle=False, num_workers=0)"
      ]
    },
    {
      "cell_type": "markdown",
      "metadata": {
        "id": "ungZ7Pzt96JG"
      },
      "source": [
        "# Model Initialize"
      ]
    },
    {
      "cell_type": "code",
      "execution_count": 17,
      "metadata": {
        "id": "LvxT4_Uz90Bj",
        "colab": {
          "base_uri": "https://localhost:8080/"
        },
        "outputId": "7e814fc8-0034-4c25-a879-7df65cd07ed3"
      },
      "outputs": [
        {
          "output_type": "execute_result",
          "data": {
            "text/plain": [
              "LSTMPredictor(\n",
              "  (rnn): LSTM(5, 32, num_layers=2, dropout=0.3, bidirectional=True)\n",
              "  (ly_a): Linear(in_features=64, out_features=16, bias=True)\n",
              "  (relu): ReLU()\n",
              "  (reg): Linear(in_features=16, out_features=1, bias=True)\n",
              ")"
            ]
          },
          "metadata": {},
          "execution_count": 17
        }
      ],
      "source": [
        "net = LSTMPredictor(look_back)\n",
        "net.to(device)"
      ]
    },
    {
      "cell_type": "markdown",
      "metadata": {
        "id": "kmtWM6li-AQT"
      },
      "source": [
        "# Loss Function"
      ]
    },
    {
      "cell_type": "code",
      "execution_count": 18,
      "metadata": {
        "id": "67dCbOxz99zx"
      },
      "outputs": [],
      "source": [
        "#改\n",
        "criterion = nn.MSELoss() # Feel free to use any other loss"
      ]
    },
    {
      "cell_type": "markdown",
      "metadata": {
        "id": "aol9u-Kn-WJy"
      },
      "source": [
        "I used Mean Square Error Loss function. You can tweak with other if you want.\n",
        "https://pytorch.org/docs/stable/nn.html#loss-functions\n",
        "\n",
        "Or, you can create your own loss function \n",
        "https://towardsdatascience.com/how-to-create-a-custom-loss-function-keras-3a89156ec69b\n"
      ]
    },
    {
      "cell_type": "markdown",
      "metadata": {
        "id": "dbKMukjw-14m"
      },
      "source": [
        "# Optimizer"
      ]
    },
    {
      "cell_type": "code",
      "execution_count": 19,
      "metadata": {
        "id": "Gj12NGdq-FEy"
      },
      "outputs": [],
      "source": [
        "#改\n",
        "optimizer = optim.Adam(net.parameters(), lr=0.0001) # you can tweak the lr and see if it affects anything"
      ]
    },
    {
      "cell_type": "markdown",
      "metadata": {
        "id": "R92TxhjM_DcD"
      },
      "source": [
        "# Training"
      ]
    },
    {
      "cell_type": "markdown",
      "metadata": {
        "id": "CgOWQ62P_070"
      },
      "source": [
        "You can change the epoch here.\n",
        "But also make sure it doesn't overfit!"
      ]
    },
    {
      "cell_type": "code",
      "execution_count": 20,
      "metadata": {
        "id": "pMlDX-Ru_Czv",
        "outputId": "5149b4b3-49a8-47ee-e425-1948a35cb5c0",
        "colab": {
          "base_uri": "https://localhost:8080/",
          "height": 1000
        }
      },
      "outputs": [
        {
          "output_type": "stream",
          "name": "stdout",
          "text": [
            "[1,    10] loss: 34.919\n",
            "[1,    20] loss: 35.777\n",
            "[1,    30] loss: 36.007\n",
            "\tTraining Loss: 7117.656841 \tValidation Loss: 2589.258413\n"
          ]
        },
        {
          "output_type": "stream",
          "name": "stderr",
          "text": [
            "/usr/local/lib/python3.9/dist-packages/torch/nn/modules/loss.py:536: UserWarning: Using a target size (torch.Size([100])) that is different to the input size (torch.Size([100, 1])). This will likely lead to incorrect results due to broadcasting. Please ensure they have the same size.\n",
            "  return F.mse_loss(input, target, reduction=self.reduction)\n",
            "/usr/local/lib/python3.9/dist-packages/torch/nn/modules/loss.py:536: UserWarning: Using a target size (torch.Size([39])) that is different to the input size (torch.Size([39, 1])). This will likely lead to incorrect results due to broadcasting. Please ensure they have the same size.\n",
            "  return F.mse_loss(input, target, reduction=self.reduction)\n"
          ]
        },
        {
          "output_type": "stream",
          "name": "stdout",
          "text": [
            "[2,    10] loss: 34.900\n",
            "[2,    20] loss: 35.650\n",
            "[2,    30] loss: 35.975\n",
            "\tTraining Loss: 7105.395986 \tValidation Loss: 2582.919437\n",
            "[3,    10] loss: 34.824\n",
            "[3,    20] loss: 35.191\n",
            "[3,    30] loss: 36.624\n",
            "\tTraining Loss: 7094.137727 \tValidation Loss: 2573.436848\n",
            "[4,    10] loss: 35.440\n",
            "[4,    20] loss: 34.765\n",
            "[4,    30] loss: 35.893\n",
            "\tTraining Loss: 7074.752078 \tValidation Loss: 2558.296231\n",
            "[5,    10] loss: 36.106\n",
            "[5,    20] loss: 34.765\n",
            "[5,    30] loss: 34.826\n",
            "\tTraining Loss: 7048.545256 \tValidation Loss: 2538.921334\n",
            "[6,    10] loss: 34.093\n",
            "[6,    20] loss: 36.030\n",
            "[6,    30] loss: 34.989\n",
            "\tTraining Loss: 7010.186380 \tValidation Loss: 2505.301200\n",
            "[7,    10] loss: 35.753\n",
            "[7,    20] loss: 34.567\n",
            "[7,    30] loss: 33.886\n",
            "\tTraining Loss: 6949.417718 \tValidation Loss: 2465.712658\n",
            "[8,    10] loss: 34.459\n",
            "[8,    20] loss: 34.374\n",
            "[8,    30] loss: 34.543\n",
            "\tTraining Loss: 6883.887894 \tValidation Loss: 2424.476995\n",
            "[9,    10] loss: 33.976\n",
            "[9,    20] loss: 33.225\n",
            "[9,    30] loss: 35.163\n",
            "\tTraining Loss: 6816.056903 \tValidation Loss: 2382.639858\n",
            "[10,    10] loss: 32.993\n",
            "[10,    20] loss: 34.052\n",
            "[10,    30] loss: 34.155\n",
            "\tTraining Loss: 6747.523214 \tValidation Loss: 2342.392886\n",
            "[11,    10] loss: 32.590\n",
            "[11,    20] loss: 33.577\n",
            "[11,    30] loss: 33.991\n",
            "\tTraining Loss: 6684.026206 \tValidation Loss: 2305.638108\n",
            "[12,    10] loss: 33.444\n",
            "[12,    20] loss: 32.911\n",
            "[12,    30] loss: 33.153\n",
            "\tTraining Loss: 6625.937186 \tValidation Loss: 2270.853233\n",
            "[13,    10] loss: 33.073\n",
            "[13,    20] loss: 33.564\n",
            "[13,    30] loss: 31.861\n",
            "\tTraining Loss: 6569.370308 \tValidation Loss: 2236.369570\n",
            "[14,    10] loss: 32.788\n",
            "[14,    20] loss: 32.291\n",
            "[14,    30] loss: 32.610\n",
            "\tTraining Loss: 6512.726314 \tValidation Loss: 2202.776839\n",
            "[15,    10] loss: 33.903\n",
            "[15,    20] loss: 31.509\n",
            "[15,    30] loss: 31.453\n",
            "\tTraining Loss: 6457.327354 \tValidation Loss: 2169.540712\n",
            "[16,    10] loss: 31.969\n",
            "[16,    20] loss: 32.175\n",
            "[16,    30] loss: 31.862\n",
            "\tTraining Loss: 6401.963685 \tValidation Loss: 2136.327077\n",
            "[17,    10] loss: 31.416\n",
            "[17,    20] loss: 31.619\n",
            "[17,    30] loss: 32.095\n",
            "\tTraining Loss: 6346.757318 \tValidation Loss: 2102.827910\n",
            "[18,    10] loss: 31.598\n",
            "[18,    20] loss: 32.064\n",
            "[18,    30] loss: 30.761\n",
            "\tTraining Loss: 6291.359413 \tValidation Loss: 2069.475956\n",
            "[19,    10] loss: 30.907\n",
            "[19,    20] loss: 31.862\n",
            "[19,    30] loss: 30.770\n",
            "\tTraining Loss: 6234.826652 \tValidation Loss: 2036.034079\n",
            "[20,    10] loss: 30.293\n",
            "[20,    20] loss: 31.846\n",
            "[20,    30] loss: 30.579\n",
            "\tTraining Loss: 6178.643213 \tValidation Loss: 2002.027983\n",
            "[21,    10] loss: 30.621\n",
            "[21,    20] loss: 30.099\n",
            "[21,    30] loss: 31.139\n",
            "\tTraining Loss: 6121.034399 \tValidation Loss: 1968.017088\n",
            "[22,    10] loss: 30.673\n",
            "[22,    20] loss: 30.475\n",
            "[22,    30] loss: 29.846\n",
            "\tTraining Loss: 6063.840320 \tValidation Loss: 1933.937763\n",
            "[23,    10] loss: 30.965\n",
            "[23,    20] loss: 29.796\n",
            "[23,    30] loss: 29.340\n",
            "\tTraining Loss: 6005.829736 \tValidation Loss: 1899.820991\n",
            "[24,    10] loss: 29.091\n",
            "[24,    20] loss: 30.048\n",
            "[24,    30] loss: 30.121\n",
            "\tTraining Loss: 5947.538198 \tValidation Loss: 1865.751324\n",
            "[25,    10] loss: 29.206\n",
            "[25,    20] loss: 30.732\n",
            "[25,    30] loss: 28.288\n",
            "\tTraining Loss: 5889.267352 \tValidation Loss: 1831.283994\n",
            "[26,    10] loss: 29.052\n",
            "[26,    20] loss: 29.088\n",
            "[26,    30] loss: 29.296\n",
            "\tTraining Loss: 5830.193106 \tValidation Loss: 1796.981339\n",
            "[27,    10] loss: 29.702\n",
            "[27,    20] loss: 28.798\n",
            "[27,    30] loss: 28.059\n",
            "\tTraining Loss: 5770.678978 \tValidation Loss: 1762.388597\n",
            "[28,    10] loss: 28.116\n",
            "[28,    20] loss: 29.073\n",
            "[28,    30] loss: 28.422\n",
            "\tTraining Loss: 5710.906629 \tValidation Loss: 1727.767117\n",
            "[29,    10] loss: 27.903\n",
            "[29,    20] loss: 28.206\n",
            "[29,    30] loss: 28.727\n",
            "\tTraining Loss: 5650.674429 \tValidation Loss: 1693.064118\n",
            "[30,    10] loss: 28.083\n",
            "[30,    20] loss: 27.362\n",
            "[30,    30] loss: 28.493\n",
            "\tTraining Loss: 5589.553596 \tValidation Loss: 1658.196158\n",
            "[31,    10] loss: 28.008\n",
            "[31,    20] loss: 27.756\n",
            "[31,    30] loss: 27.176\n",
            "\tTraining Loss: 5528.617661 \tValidation Loss: 1623.131448\n",
            "[32,    10] loss: 26.461\n",
            "[32,    20] loss: 27.548\n",
            "[32,    30] loss: 28.045\n",
            "\tTraining Loss: 5467.155758 \tValidation Loss: 1588.277796\n",
            "[33,    10] loss: 27.210\n",
            "[33,    20] loss: 26.110\n",
            "[33,    30] loss: 27.815\n",
            "\tTraining Loss: 5405.105921 \tValidation Loss: 1553.105301\n",
            "[34,    10] loss: 27.072\n",
            "[34,    20] loss: 25.884\n",
            "[34,    30] loss: 27.158\n",
            "\tTraining Loss: 5342.202167 \tValidation Loss: 1517.927652\n",
            "[35,    10] loss: 25.587\n",
            "[35,    20] loss: 27.034\n",
            "[35,    30] loss: 26.662\n",
            "\tTraining Loss: 5279.410289 \tValidation Loss: 1482.828817\n",
            "[36,    10] loss: 26.315\n",
            "[36,    20] loss: 25.481\n",
            "[36,    30] loss: 26.449\n",
            "\tTraining Loss: 5216.518598 \tValidation Loss: 1447.706315\n",
            "[37,    10] loss: 24.597\n",
            "[37,    20] loss: 26.406\n",
            "[37,    30] loss: 26.240\n",
            "\tTraining Loss: 5152.981032 \tValidation Loss: 1412.710145\n",
            "[38,    10] loss: 25.829\n",
            "[38,    20] loss: 24.852\n",
            "[38,    30] loss: 25.573\n",
            "\tTraining Loss: 5089.054657 \tValidation Loss: 1377.723829\n",
            "[39,    10] loss: 25.804\n",
            "[39,    20] loss: 25.279\n",
            "[39,    30] loss: 24.287\n",
            "\tTraining Loss: 5025.729570 \tValidation Loss: 1342.753914\n",
            "[40,    10] loss: 24.510\n",
            "[40,    20] loss: 24.517\n",
            "[40,    30] loss: 25.388\n",
            "\tTraining Loss: 4960.584850 \tValidation Loss: 1308.095719\n",
            "[41,    10] loss: 24.384\n",
            "[41,    20] loss: 25.026\n",
            "[41,    30] loss: 24.033\n",
            "\tTraining Loss: 4896.595153 \tValidation Loss: 1273.346342\n",
            "[42,    10] loss: 23.892\n",
            "[42,    20] loss: 23.809\n",
            "[42,    30] loss: 24.734\n",
            "\tTraining Loss: 4831.867640 \tValidation Loss: 1238.895200\n",
            "[43,    10] loss: 24.099\n",
            "[43,    20] loss: 23.506\n",
            "[43,    30] loss: 23.964\n",
            "\tTraining Loss: 4767.956597 \tValidation Loss: 1204.503078\n",
            "[44,    10] loss: 23.247\n",
            "[44,    20] loss: 23.584\n",
            "[44,    30] loss: 23.807\n",
            "\tTraining Loss: 4702.560726 \tValidation Loss: 1170.346895\n",
            "[45,    10] loss: 23.657\n",
            "[45,    20] loss: 23.463\n",
            "[45,    30] loss: 22.440\n",
            "\tTraining Loss: 4638.428220 \tValidation Loss: 1136.212706\n",
            "[46,    10] loss: 22.584\n",
            "[46,    20] loss: 23.115\n",
            "[46,    30] loss: 22.991\n",
            "\tTraining Loss: 4573.106830 \tValidation Loss: 1102.582828\n",
            "[47,    10] loss: 22.391\n",
            "[47,    20] loss: 22.142\n",
            "[47,    30] loss: 23.062\n",
            "\tTraining Loss: 4507.344138 \tValidation Loss: 1069.113381\n",
            "[48,    10] loss: 22.288\n",
            "[48,    20] loss: 22.533\n",
            "[48,    30] loss: 21.774\n",
            "\tTraining Loss: 4442.348437 \tValidation Loss: 1035.853633\n",
            "[49,    10] loss: 21.611\n",
            "[49,    20] loss: 22.995\n",
            "[49,    30] loss: 21.116\n",
            "\tTraining Loss: 4377.154725 \tValidation Loss: 1002.889105\n",
            "[50,    10] loss: 22.049\n",
            "[50,    20] loss: 21.607\n",
            "[50,    30] loss: 21.043\n",
            "\tTraining Loss: 4312.246032 \tValidation Loss: 970.264589\n",
            "[51,    10] loss: 21.399\n",
            "[51,    20] loss: 21.519\n",
            "[51,    30] loss: 20.882\n",
            "\tTraining Loss: 4247.686246 \tValidation Loss: 938.015139\n",
            "[52,    10] loss: 20.569\n",
            "[52,    20] loss: 20.826\n",
            "[52,    30] loss: 21.300\n",
            "\tTraining Loss: 4182.345490 \tValidation Loss: 906.179497\n",
            "[53,    10] loss: 20.092\n",
            "[53,    20] loss: 20.578\n",
            "[53,    30] loss: 21.190\n",
            "\tTraining Loss: 4117.576898 \tValidation Loss: 874.708584\n",
            "[54,    10] loss: 20.359\n",
            "[54,    20] loss: 19.610\n",
            "[54,    30] loss: 20.804\n",
            "\tTraining Loss: 4053.723269 \tValidation Loss: 843.458532\n",
            "[55,    10] loss: 19.327\n",
            "[55,    20] loss: 20.754\n",
            "[55,    30] loss: 19.817\n",
            "\tTraining Loss: 3989.296839 \tValidation Loss: 812.709046\n",
            "[56,    10] loss: 19.293\n",
            "[56,    20] loss: 19.901\n",
            "[56,    30] loss: 19.767\n",
            "\tTraining Loss: 3924.893756 \tValidation Loss: 782.407469\n",
            "[57,    10] loss: 19.777\n",
            "[57,    20] loss: 18.836\n",
            "[57,    30] loss: 19.184\n",
            "\tTraining Loss: 3860.604588 \tValidation Loss: 752.443823\n",
            "[58,    10] loss: 19.701\n",
            "[58,    20] loss: 19.175\n",
            "[58,    30] loss: 18.113\n",
            "\tTraining Loss: 3796.574478 \tValidation Loss: 723.087869\n",
            "[59,    10] loss: 18.780\n",
            "[59,    20] loss: 19.074\n",
            "[59,    30] loss: 18.145\n",
            "\tTraining Loss: 3733.668907 \tValidation Loss: 694.287732\n",
            "[60,    10] loss: 18.162\n",
            "[60,    20] loss: 19.427\n",
            "[60,    30] loss: 17.418\n",
            "\tTraining Loss: 3669.820607 \tValidation Loss: 665.852242\n",
            "[61,    10] loss: 18.588\n",
            "[61,    20] loss: 18.208\n",
            "[61,    30] loss: 17.321\n",
            "\tTraining Loss: 3607.491826 \tValidation Loss: 638.006055\n",
            "[62,    10] loss: 17.652\n",
            "[62,    20] loss: 17.764\n",
            "[62,    30] loss: 17.813\n",
            "\tTraining Loss: 3545.774998 \tValidation Loss: 610.826928\n",
            "[63,    10] loss: 17.549\n",
            "[63,    20] loss: 17.197\n",
            "[63,    30] loss: 17.487\n",
            "\tTraining Loss: 3481.864867 \tValidation Loss: 583.947570\n",
            "[64,    10] loss: 16.126\n",
            "[64,    20] loss: 16.705\n",
            "[64,    30] loss: 18.486\n",
            "\tTraining Loss: 3420.301959 \tValidation Loss: 557.906973\n",
            "[65,    10] loss: 16.870\n",
            "[65,    20] loss: 16.719\n",
            "[65,    30] loss: 16.816\n",
            "\tTraining Loss: 3360.293795 \tValidation Loss: 532.173385\n",
            "[66,    10] loss: 17.021\n",
            "[66,    20] loss: 16.490\n",
            "[66,    30] loss: 15.926\n",
            "\tTraining Loss: 3299.761877 \tValidation Loss: 507.092598\n",
            "[67,    10] loss: 16.539\n",
            "[67,    20] loss: 15.998\n",
            "[67,    30] loss: 16.020\n",
            "\tTraining Loss: 3238.097713 \tValidation Loss: 482.764639\n",
            "[68,    10] loss: 15.639\n",
            "[68,    20] loss: 15.910\n",
            "[68,    30] loss: 16.150\n",
            "\tTraining Loss: 3179.083321 \tValidation Loss: 459.041104\n",
            "[69,    10] loss: 15.730\n",
            "[69,    20] loss: 15.791\n",
            "[69,    30] loss: 15.261\n",
            "\tTraining Loss: 3119.580101 \tValidation Loss: 435.859352\n",
            "[70,    10] loss: 14.918\n",
            "[70,    20] loss: 15.737\n",
            "[70,    30] loss: 15.273\n",
            "\tTraining Loss: 3060.606590 \tValidation Loss: 413.385848\n",
            "[71,    10] loss: 14.836\n",
            "[71,    20] loss: 15.040\n",
            "[71,    30] loss: 15.088\n",
            "\tTraining Loss: 3002.061634 \tValidation Loss: 391.575985\n",
            "[72,    10] loss: 14.517\n",
            "[72,    20] loss: 14.584\n",
            "[72,    30] loss: 15.128\n",
            "\tTraining Loss: 2944.317240 \tValidation Loss: 370.472634\n",
            "[73,    10] loss: 14.634\n",
            "[73,    20] loss: 14.237\n",
            "[73,    30] loss: 14.497\n",
            "\tTraining Loss: 2886.756792 \tValidation Loss: 350.005939\n",
            "[74,    10] loss: 13.935\n",
            "[74,    20] loss: 13.660\n",
            "[74,    30] loss: 14.942\n",
            "\tTraining Loss: 2831.435895 \tValidation Loss: 330.233881\n",
            "[75,    10] loss: 13.783\n",
            "[75,    20] loss: 13.369\n",
            "[75,    30] loss: 14.491\n",
            "\tTraining Loss: 2773.774533 \tValidation Loss: 311.165398\n",
            "[76,    10] loss: 14.100\n",
            "[76,    20] loss: 12.951\n",
            "[76,    30] loss: 13.782\n",
            "\tTraining Loss: 2718.106041 \tValidation Loss: 292.777090\n",
            "[77,    10] loss: 13.734\n",
            "[77,    20] loss: 13.108\n",
            "[77,    30] loss: 13.101\n",
            "\tTraining Loss: 2664.341728 \tValidation Loss: 275.093380\n",
            "[78,    10] loss: 13.152\n",
            "[78,    20] loss: 13.353\n",
            "[78,    30] loss: 12.691\n",
            "\tTraining Loss: 2610.524852 \tValidation Loss: 258.260920\n",
            "[79,    10] loss: 13.385\n",
            "[79,    20] loss: 12.131\n",
            "[79,    30] loss: 12.901\n",
            "\tTraining Loss: 2556.304266 \tValidation Loss: 242.103179\n",
            "[80,    10] loss: 12.988\n",
            "[80,    20] loss: 12.293\n",
            "[80,    30] loss: 12.293\n",
            "\tTraining Loss: 2504.228776 \tValidation Loss: 226.640941\n",
            "[81,    10] loss: 12.252\n",
            "[81,    20] loss: 11.863\n",
            "[81,    30] loss: 12.747\n",
            "\tTraining Loss: 2452.036355 \tValidation Loss: 212.038871\n",
            "[82,    10] loss: 12.271\n",
            "[82,    20] loss: 11.234\n",
            "[82,    30] loss: 12.596\n",
            "\tTraining Loss: 2401.672428 \tValidation Loss: 198.124566\n",
            "[83,    10] loss: 11.825\n",
            "[83,    20] loss: 11.917\n",
            "[83,    30] loss: 11.528\n",
            "\tTraining Loss: 2351.205701 \tValidation Loss: 184.875052\n",
            "[84,    10] loss: 11.502\n",
            "[84,    20] loss: 12.081\n",
            "[84,    30] loss: 10.965\n",
            "\tTraining Loss: 2300.073586 \tValidation Loss: 172.459477\n",
            "[85,    10] loss: 10.836\n",
            "[85,    20] loss: 11.562\n",
            "[85,    30] loss: 11.367\n",
            "\tTraining Loss: 2250.011779 \tValidation Loss: 160.844799\n",
            "[86,    10] loss: 11.522\n",
            "[86,    20] loss: 10.919\n",
            "[86,    30] loss: 10.664\n",
            "\tTraining Loss: 2204.263331 \tValidation Loss: 149.939610\n",
            "[87,    10] loss: 10.128\n",
            "[87,    20] loss: 10.715\n",
            "[87,    30] loss: 11.441\n",
            "\tTraining Loss: 2156.514496 \tValidation Loss: 139.914767\n",
            "[88,    10] loss: 10.844\n",
            "[88,    20] loss: 10.783\n",
            "[88,    30] loss: 9.987\n",
            "\tTraining Loss: 2108.453140 \tValidation Loss: 130.505992\n",
            "[89,    10] loss: 10.319\n",
            "[89,    20] loss: 10.802\n",
            "[89,    30] loss: 9.857\n",
            "\tTraining Loss: 2064.749107 \tValidation Loss: 121.926217\n",
            "[90,    10] loss: 10.044\n",
            "[90,    20] loss: 10.296\n",
            "[90,    30] loss: 9.937\n",
            "\tTraining Loss: 2019.940299 \tValidation Loss: 114.142147\n",
            "[91,    10] loss: 9.851\n",
            "[91,    20] loss: 9.847\n",
            "[91,    30] loss: 9.852\n",
            "\tTraining Loss: 1973.316646 \tValidation Loss: 107.121956\n",
            "[92,    10] loss: 10.315\n",
            "[92,    20] loss: 9.258\n",
            "[92,    30] loss: 9.375\n",
            "\tTraining Loss: 1930.768253 \tValidation Loss: 100.842223\n",
            "[93,    10] loss: 10.391\n",
            "[93,    20] loss: 9.270\n",
            "[93,    30] loss: 8.598\n",
            "\tTraining Loss: 1888.046827 \tValidation Loss: 95.306521\n",
            "[94,    10] loss: 9.022\n",
            "[94,    20] loss: 9.487\n",
            "[94,    30] loss: 9.215\n",
            "\tTraining Loss: 1846.972652 \tValidation Loss: 90.593123\n",
            "[95,    10] loss: 8.421\n",
            "[95,    20] loss: 9.369\n",
            "[95,    30] loss: 9.312\n",
            "\tTraining Loss: 1807.160817 \tValidation Loss: 86.604780\n",
            "[96,    10] loss: 8.953\n",
            "[96,    20] loss: 8.559\n",
            "[96,    30] loss: 8.926\n",
            "\tTraining Loss: 1765.435023 \tValidation Loss: 83.333152\n",
            "[97,    10] loss: 8.435\n",
            "[97,    20] loss: 8.583\n",
            "[97,    30] loss: 8.889\n",
            "\tTraining Loss: 1725.421582 \tValidation Loss: 80.835338\n",
            "[98,    10] loss: 8.662\n",
            "[98,    20] loss: 8.023\n",
            "[98,    30] loss: 8.617\n",
            "\tTraining Loss: 1688.536036 \tValidation Loss: 79.050873\n",
            "[99,    10] loss: 8.224\n",
            "[99,    20] loss: 7.990\n",
            "[99,    30] loss: 8.581\n",
            "\tTraining Loss: 1651.734573 \tValidation Loss: 78.011783\n",
            "[100,    10] loss: 8.160\n",
            "[100,    20] loss: 7.939\n",
            "[100,    30] loss: 8.124\n",
            "\tTraining Loss: 1613.383367 \tValidation Loss: 77.690761\n",
            "Finished Training\n"
          ]
        },
        {
          "output_type": "display_data",
          "data": {
            "text/plain": [
              "<Figure size 432x288 with 1 Axes>"
            ],
            "image/png": "[encoded data removed]"
          },
          "metadata": {
            "needs_background": "light"
          }
        }
      ],
      "source": [
        "## Training\n",
        "checkpoint = \"./checkpoint/save.pt\"\n",
        "if not os.path.isfile(checkpoint):\n",
        "  os.makedirs(\"./checkpoint\")\n",
        "  #改\n",
        "  trainer(net, criterion, optimizer, trainloader, testloader, epoch_n=100, path=checkpoint)\n",
        "else:\n",
        "  net.load_state_dict(torch.load(checkpoint))"
      ]
    },
    {
      "cell_type": "markdown",
      "metadata": {
        "id": "e7t_gO-3AY2i"
      },
      "source": [
        "# Test the Data\n",
        "Now let's compare with the test data"
      ]
    },
    {
      "cell_type": "code",
      "execution_count": 21,
      "metadata": {
        "id": "t_DRUA3l_tdd",
        "colab": {
          "base_uri": "https://localhost:8080/"
        },
        "outputId": "e77df4aa-e0de-4735-c612-cdec0b80c4ec"
      },
      "outputs": [
        {
          "output_type": "stream",
          "name": "stdout",
          "text": [
            "Test Result:  615.7155151367188\n"
          ]
        }
      ],
      "source": [
        "test = tester(net, criterion, testloader)\n",
        "# Show the difference between predict and groundtruth (loss)\n",
        "print('Test Result: ', test)"
      ]
    },
    {
      "cell_type": "markdown",
      "metadata": {
        "id": "cKN0jGueAnhN"
      },
      "source": [
        "# Predict\n",
        "Our model is now ready! \n",
        "\n",
        "Let's try with some sample data!\n",
        "Suppose the closing data, \n",
        "* Monday = 126\n",
        "* Tuesday = 124\n",
        "* Wednesday = 124\n",
        "* Thursday = 122.5\n",
        "* Friday = 121\n",
        "\n",
        "So, the model is predicting the next day given the input of 5 day closing values"
      ]
    },
    {
      "cell_type": "code",
      "execution_count": 22,
      "metadata": {
        "id": "70ehxcuAAiZD",
        "colab": {
          "base_uri": "https://localhost:8080/"
        },
        "outputId": "c2f6b98f-0113-4cc6-eab6-f2ec4cdd4c27"
      },
      "outputs": [
        {
          "output_type": "stream",
          "name": "stdout",
          "text": [
            "Predicted Result 38.07843017578125\n"
          ]
        }
      ],
      "source": [
        "predict = net.predict(torch.tensor([[126, 124, 124, 122.5, 121]], dtype=torch.float32).to(device))\n",
        "print('Predicted Result', predict)"
      ]
    },
    {
      "cell_type": "markdown",
      "metadata": {
        "id": "36tyoplUCIov"
      },
      "source": [
        "What can you do to improve the performance?\n",
        "\n",
        "* Increase the epoch\n",
        "* You can use multiple input data (Maybe closing data and volume has a relation!)\n",
        "* Try out different loss function\n",
        "* Evaluate the test data and training data and see the accuracy \n",
        "* Experiment with the code"
      ]
    },
    {
      "cell_type": "markdown",
      "metadata": {
        "id": "4YlKIBPMGmYO"
      },
      "source": [
        "# Report Guidelines\n",
        "In the field of Computer Science, most of the latest techniques are proposed at conferences instead of journal, like NIPS, ACL, CVPR, AAAI and so on.\n",
        "\n",
        "We will follow IEEE guidelines to write paper report.\n",
        "A proper report will contain-\n",
        " * Abstract\n",
        " * Introduction\n",
        " * Methods\n",
        " * Experiment\n",
        " * Results\n",
        " * Conclusion \n",
        " * References\n",
        " For more details: https://www.ieee.org/conferences/publishing/templates.html\n",
        " We recommend to use overleaf latex Editor."
      ]
    },
    {
      "cell_type": "markdown",
      "metadata": {
        "id": "JTSKbgXQgVAS"
      },
      "source": [
        "# Grading\n",
        " Grading is based on your report.\n",
        "Below are the grading policy for this homework:\n",
        "* The report should be in English.\n",
        "* Introduction & Conclusion (30%)\n",
        "* Methods (30%)\n",
        "* Experiment & Results (30%)\n",
        "* Abstract & References (10%)"
      ]
    },
    {
      "cell_type": "markdown",
      "metadata": {
        "id": "jtH-h71dHgzS"
      },
      "source": [
        "# Final Project\n",
        "We suggest selecting one interesting topic as early as possible. Most of the students here are undergraduate or new to coding, it would be the best time for you to develop your knowledge and the ability to implement code by reading research papers. \n"
      ]
    },
    {
      "cell_type": "markdown",
      "metadata": {
        "id": "zWRSXmOy1aLM"
      },
      "source": [
        "# Papers\n",
        "You can find papers here:\n",
        "* https://arxiv.org\n",
        "* Google Scholar\n",
        "* Conference Websites"
      ]
    },
    {
      "cell_type": "code",
      "execution_count": null,
      "metadata": {
        "id": "WVvzCvI61z81"
      },
      "outputs": [],
      "source": []
    }
  ],
  "metadata": {
    "accelerator": "GPU",
    "colab": {
      "provenance": []
    },
    "gpuClass": "standard",
    "kernelspec": {
      "display_name": "Python 3",
      "language": "python",
      "name": "python3"
    },
    "language_info": {
      "codemirror_mode": {
        "name": "ipython",
        "version": 3
      },
      "file_extension": ".py",
      "mimetype": "text/x-python",
      "name": "python",
      "nbconvert_exporter": "python",
      "pygments_lexer": "ipython3",
      "version": "3.10.9"
    }
  },
  "nbformat": 4,
  "nbformat_minor": 0
}
